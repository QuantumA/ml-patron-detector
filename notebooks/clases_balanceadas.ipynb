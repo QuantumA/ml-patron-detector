{
 "cells": [
  {
   "cell_type": "code",
   "execution_count": 1,
   "metadata": {
    "collapsed": true,
    "pycharm": {
     "name": "#%%\n"
    }
   },
   "outputs": [],
   "source": [
    "import pandas as pd\n",
    "import numpy as np"
   ]
  },
  {
   "cell_type": "code",
   "execution_count": 17,
   "outputs": [],
   "source": [
    "double_bottom_data = pd.read_csv(\"../data/ejemplos_doble_suelo_final.csv\", index_col=0)\n",
    "double_top_data = pd.read_csv(\"../data/ejemplos_doble_techo_final.csv\", index_col=0)"
   ],
   "metadata": {
    "collapsed": false,
    "pycharm": {
     "name": "#%%\n"
    }
   }
  },
  {
   "cell_type": "code",
   "execution_count": 19,
   "outputs": [],
   "source": [
    "double_bottom_data.drop_duplicates(inplace=True)\n",
    "double_top_data.drop_duplicates(inplace=True)"
   ],
   "metadata": {
    "collapsed": false,
    "pycharm": {
     "name": "#%%\n"
    }
   }
  },
  {
   "cell_type": "code",
   "execution_count": 20,
   "outputs": [
    {
     "data": {
      "text/plain": "            date  class\n1     2003-01-07    1.0\n62    2013-01-31    1.0\n64    2013-03-22    1.0\n134   2007-02-16    1.0\n138   2000-06-07    1.0\n...          ...    ...\n1540  2013-03-15    1.0\n1575  2009-06-19    1.0\n1580  2002-09-25    1.0\n1589  2003-10-07    1.0\n1621  2007-02-28    1.0\n\n[83 rows x 2 columns]",
      "text/html": "<div>\n<style scoped>\n    .dataframe tbody tr th:only-of-type {\n        vertical-align: middle;\n    }\n\n    .dataframe tbody tr th {\n        vertical-align: top;\n    }\n\n    .dataframe thead th {\n        text-align: right;\n    }\n</style>\n<table border=\"1\" class=\"dataframe\">\n  <thead>\n    <tr style=\"text-align: right;\">\n      <th></th>\n      <th>date</th>\n      <th>class</th>\n    </tr>\n  </thead>\n  <tbody>\n    <tr>\n      <th>1</th>\n      <td>2003-01-07</td>\n      <td>1.0</td>\n    </tr>\n    <tr>\n      <th>62</th>\n      <td>2013-01-31</td>\n      <td>1.0</td>\n    </tr>\n    <tr>\n      <th>64</th>\n      <td>2013-03-22</td>\n      <td>1.0</td>\n    </tr>\n    <tr>\n      <th>134</th>\n      <td>2007-02-16</td>\n      <td>1.0</td>\n    </tr>\n    <tr>\n      <th>138</th>\n      <td>2000-06-07</td>\n      <td>1.0</td>\n    </tr>\n    <tr>\n      <th>...</th>\n      <td>...</td>\n      <td>...</td>\n    </tr>\n    <tr>\n      <th>1540</th>\n      <td>2013-03-15</td>\n      <td>1.0</td>\n    </tr>\n    <tr>\n      <th>1575</th>\n      <td>2009-06-19</td>\n      <td>1.0</td>\n    </tr>\n    <tr>\n      <th>1580</th>\n      <td>2002-09-25</td>\n      <td>1.0</td>\n    </tr>\n    <tr>\n      <th>1589</th>\n      <td>2003-10-07</td>\n      <td>1.0</td>\n    </tr>\n    <tr>\n      <th>1621</th>\n      <td>2007-02-28</td>\n      <td>1.0</td>\n    </tr>\n  </tbody>\n</table>\n<p>83 rows × 2 columns</p>\n</div>"
     },
     "execution_count": 20,
     "metadata": {},
     "output_type": "execute_result"
    }
   ],
   "source": [
    "double_bottom_data[double_bottom_data[\"class\"] == 1]"
   ],
   "metadata": {
    "collapsed": false,
    "pycharm": {
     "name": "#%%\n"
    }
   }
  },
  {
   "cell_type": "code",
   "execution_count": 21,
   "outputs": [
    {
     "data": {
      "text/plain": "           date  class\n0    2007-01-15    1.0\n1    2004-02-25    1.0\n2    2009-09-25    1.0\n3    2002-02-18    1.0\n4    2010-11-25    1.0\n..          ...    ...\n160  2002-02-13    1.0\n162  2010-11-26    1.0\n163  2005-02-04    1.0\n164  2019-04-04    1.0\n165  2001-12-18    1.0\n\n[76 rows x 2 columns]",
      "text/html": "<div>\n<style scoped>\n    .dataframe tbody tr th:only-of-type {\n        vertical-align: middle;\n    }\n\n    .dataframe tbody tr th {\n        vertical-align: top;\n    }\n\n    .dataframe thead th {\n        text-align: right;\n    }\n</style>\n<table border=\"1\" class=\"dataframe\">\n  <thead>\n    <tr style=\"text-align: right;\">\n      <th></th>\n      <th>date</th>\n      <th>class</th>\n    </tr>\n  </thead>\n  <tbody>\n    <tr>\n      <th>0</th>\n      <td>2007-01-15</td>\n      <td>1.0</td>\n    </tr>\n    <tr>\n      <th>1</th>\n      <td>2004-02-25</td>\n      <td>1.0</td>\n    </tr>\n    <tr>\n      <th>2</th>\n      <td>2009-09-25</td>\n      <td>1.0</td>\n    </tr>\n    <tr>\n      <th>3</th>\n      <td>2002-02-18</td>\n      <td>1.0</td>\n    </tr>\n    <tr>\n      <th>4</th>\n      <td>2010-11-25</td>\n      <td>1.0</td>\n    </tr>\n    <tr>\n      <th>...</th>\n      <td>...</td>\n      <td>...</td>\n    </tr>\n    <tr>\n      <th>160</th>\n      <td>2002-02-13</td>\n      <td>1.0</td>\n    </tr>\n    <tr>\n      <th>162</th>\n      <td>2010-11-26</td>\n      <td>1.0</td>\n    </tr>\n    <tr>\n      <th>163</th>\n      <td>2005-02-04</td>\n      <td>1.0</td>\n    </tr>\n    <tr>\n      <th>164</th>\n      <td>2019-04-04</td>\n      <td>1.0</td>\n    </tr>\n    <tr>\n      <th>165</th>\n      <td>2001-12-18</td>\n      <td>1.0</td>\n    </tr>\n  </tbody>\n</table>\n<p>76 rows × 2 columns</p>\n</div>"
     },
     "execution_count": 21,
     "metadata": {},
     "output_type": "execute_result"
    }
   ],
   "source": [
    "double_top_data[double_top_data[\"class\"] == 1]"
   ],
   "metadata": {
    "collapsed": false,
    "pycharm": {
     "name": "#%%\n"
    }
   }
  },
  {
   "cell_type": "code",
   "execution_count": 15,
   "outputs": [],
   "source": [
    "class_1 = double_bottom_data[double_bottom_data[\"class\"] == 1]\n",
    "class_0 = double_bottom_data[double_bottom_data[\"class\"] == 0]\n",
    "class_2 = double_bottom_data[double_bottom_data[\"class\"] == 2]\n",
    "\n",
    "# Get #class_1 random elements of class 0\n",
    "random_idx = np.random.randint(low=0, high=class_0.shape[0], size=class_1.shape[0])\n",
    "class_0 = class_0.iloc[random_idx]\n",
    "\n",
    "# reindex classes\n",
    "class_0.reset_index(drop=True, inplace=True)\n",
    "class_1.reset_index(drop=True, inplace=True)\n",
    "\n",
    "# save into csv\n",
    "frame = pd.concat([class_0, class_1])\n",
    "frame.reset_index(drop=True, inplace=True)\n",
    "frame.to_csv(\"../data/doble_suelo_balanceado.csv\")"
   ],
   "metadata": {
    "collapsed": false,
    "pycharm": {
     "name": "#%%\n"
    }
   }
  }
 ],
 "metadata": {
  "kernelspec": {
   "display_name": "Python 3",
   "language": "python",
   "name": "python3"
  },
  "language_info": {
   "codemirror_mode": {
    "name": "ipython",
    "version": 2
   },
   "file_extension": ".py",
   "mimetype": "text/x-python",
   "name": "python",
   "nbconvert_exporter": "python",
   "pygments_lexer": "ipython2",
   "version": "2.7.6"
  }
 },
 "nbformat": 4,
 "nbformat_minor": 0
}