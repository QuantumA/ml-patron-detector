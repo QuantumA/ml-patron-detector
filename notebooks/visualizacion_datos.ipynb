{
 "cells": [
  {
   "cell_type": "code",
   "execution_count": null,
   "outputs": [],
   "source": [
    "import pandas as pd\n",
    "import pickle\n",
    "from mpl_finance import candlestick2_ohlc\n",
    "import matplotlib.pyplot as plt\n",
    "import numpy as np\n",
    "from scipy.signal import argrelextrema"
   ],
   "metadata": {
    "collapsed": false,
    "pycharm": {
     "name": "#%%\n"
    }
   }
  },
  {
   "cell_type": "code",
   "execution_count": null,
   "outputs": [],
   "source": [
    "with open('../data/benchmark_data.pkl', 'rb') as handle:\n",
    "    bm = pickle.load(handle)\n",
    "ibex = bm['ibex']\n",
    "\n",
    "db_dataset = pd.read_csv(\"../data/doble_suelo_balanceado.csv\")\n",
    "db_dataset[\"date\"] = pd.to_datetime(db_dataset[\"date\"], format=\"%Y-%m-%d\").to_frame()\n",
    "\n",
    "window = 30"
   ],
   "metadata": {
    "collapsed": false,
    "pycharm": {
     "name": "#%%\n"
    }
   }
  },
  {
   "cell_type": "markdown",
   "source": [
    "### Visualizar los datos"
   ],
   "metadata": {
    "collapsed": false,
    "pycharm": {
     "name": "#%% md\n"
    }
   }
  },
  {
   "cell_type": "markdown",
   "source": [
    "##### Positive OHLC"
   ],
   "metadata": {
    "collapsed": false,
    "pycharm": {
     "name": "#%% md\n"
    }
   }
  },
  {
   "cell_type": "code",
   "execution_count": null,
   "outputs": [],
   "source": [
    "class_0 = db_dataset[db_dataset[\"class\"] == 0]\n",
    "class_1 = db_dataset[db_dataset[\"class\"] == 1]\n",
    "\n",
    "# for data in class_1.iterrows():\n",
    "#     windata = ibex.loc[data[1].date:].head(window)\n",
    "#\n",
    "#     fig, ax = plt.subplots(figsize=(6, 4))\n",
    "#     candlestick2_ohlc(ax, windata.open, windata.high,\n",
    "#                       windata.low, windata.close,\n",
    "#                       colorup='g', colordown='r', width=0.66, alpha=0.8)\n",
    "#     print(data[1].date)\n",
    "#     plt.show()\n"
   ],
   "metadata": {
    "collapsed": false,
    "pycharm": {
     "name": "#%%\n"
    }
   }
  },
  {
   "cell_type": "markdown",
   "source": [
    "##### Negative OHLC"
   ],
   "metadata": {
    "collapsed": false,
    "pycharm": {
     "name": "#%% md\n"
    }
   }
  },
  {
   "cell_type": "code",
   "execution_count": null,
   "outputs": [],
   "source": [
    "# for data in class_0[10:12].iterrows():\n",
    "#     windata = ibex.loc[data[1].date:].head(window)\n",
    "#\n",
    "#     fig, ax = plt.subplots(figsize=(6, 4))\n",
    "#     candlestick2_ohlc(ax, windata.open, windata.high,\n",
    "#                       windata.low, windata.close,\n",
    "#                       colorup='g', colordown='r', width=0.66, alpha=0.8)\n",
    "#     print(data[1].date)\n",
    "#     plt.show()"
   ],
   "metadata": {
    "collapsed": false,
    "pycharm": {
     "name": "#%%\n"
    }
   }
  },
  {
   "cell_type": "code",
   "execution_count": null,
   "outputs": [],
   "source": [
    "# class_0 = db_dataset[db_dataset[\"class\"] == 0]\n",
    "# class_1 = db_dataset[db_dataset[\"class\"] == 1]\n",
    "#\n",
    "# n_min = 4\n",
    "# n_max = 1\n",
    "#\n",
    "# for data in class_0.iterrows():\n",
    "#     fig, (ax1, ax2) = plt.subplots(1, 2, figsize=(16, 4), sharey=True)\n",
    "#\n",
    "#     windata = ibex.loc[data[1].date:].head(window)\n",
    "#\n",
    "#     lows = windata.iloc[argrelextrema(windata.low.values, np.less_equal, order=n_min)[0]][\"low\"]\n",
    "#     lmax = windata.iloc[argrelextrema(windata.low.values, np.greater_equal, order=n_max)[0]][\"low\"]\n",
    "#\n",
    "#     local_min = lows.to_frame().sort_values(by=\"low\")[:2]\n",
    "#     local_max = lmax.to_frame().sort_values(by=\"low\", ascending=False)[:2]\n",
    "#\n",
    "#     candlestick2_ohlc(ax1, windata.open, windata.high,\n",
    "#\n",
    "#                       windata.low, windata.close,\n",
    "#                       colorup='g', colordown='r', width=0.66, alpha=0.8)\n",
    "#\n",
    "#     ax2 = plt.scatter(local_min.index, local_min.low, c='r')\n",
    "#     ax2 = plt.scatter(local_max.index, local_max.low, c='g')\n",
    "#     ax2 = plt.plot(windata[\"low\"].index, windata[\"low\"].values)\n",
    "#\n",
    "#     print(data[1].date)\n",
    "#\n",
    "#     plt.show()\n"
   ],
   "metadata": {
    "collapsed": false,
    "pycharm": {
     "name": "#%%\n"
    }
   }
  },
  {
   "cell_type": "code",
   "execution_count": null,
   "outputs": [],
   "source": [
    "# class_0 = db_dataset[db_dataset[\"class\"] == 0]\n",
    "# class_1 = db_dataset[db_dataset[\"class\"] == 1]\n",
    "\n",
    "# n_min = 4\n",
    "# n_max = 1\n",
    "#\n",
    "# for data in class_1.iterrows():\n",
    "#     fig, (ax1, ax2) = plt.subplots(1, 2, figsize=(16, 4), sharey=True)\n",
    "#\n",
    "#     windata = ibex.loc[data[1].date:].head(window)\n",
    "#\n",
    "#     lows = windata.iloc[argrelextrema(windata.low.values, np.less_equal, order=n_min)[0]][\"low\"]\n",
    "#     lmax = windata.iloc[argrelextrema(windata.low.values, np.greater_equal, order=n_max)[0]][\"low\"]\n",
    "#\n",
    "#     local_min = lows.to_frame().sort_values(by=\"low\")[:2]\n",
    "#     local_max = lmax.to_frame().sort_values(by=\"low\", ascending=False)[:2]\n",
    "#     local_max = lmax.to_frame()\n",
    "#\n",
    "#     candlestick2_ohlc(ax1, windata.open, windata.high,\n",
    "#\n",
    "#                       windata.low, windata.close,\n",
    "#                       colorup='g', colordown='r', width=0.66, alpha=0.8)\n",
    "#\n",
    "#     ax2 = plt.scatter(local_min.index, local_min.low, c='r')\n",
    "#     ax2 = plt.scatter(local_max.index, local_max.low, c='g')\n",
    "#     ax2 = plt.plot(windata[\"low\"].index, windata[\"low\"].values)\n",
    "#\n",
    "#     print(data[1].date)\n",
    "#\n",
    "#     plt.show()\n"
   ],
   "metadata": {
    "collapsed": false,
    "pycharm": {
     "name": "#%%\n"
    }
   }
  },
  {
   "cell_type": "code",
   "execution_count": null,
   "outputs": [],
   "source": [
    "# class_0 = db_dataset[db_dataset[\"class\"] == 0]\n",
    "# class_1 = db_dataset[db_dataset[\"class\"] == 1]\n",
    "#\n",
    "# n_min = 4\n",
    "# n_max = 1\n",
    "#\n",
    "# for data in class_0.iterrows():\n",
    "#     fig, (ax1, ax2) = plt.subplots(1, 2, figsize=(16, 4), sharey=True)\n",
    "#\n",
    "#     windata = ibex.loc[data[1].date:].head(window)\n",
    "#\n",
    "#     lows = windata.iloc[argrelextrema(windata.low.values, np.less_equal, order=n_min)[0]][\"low\"]\n",
    "#     lmax = windata.iloc[argrelextrema(windata.low.values, np.greater_equal, order=n_max)[0]][\"low\"]\n",
    "#\n",
    "#     local_min = lows.to_frame().sort_values(by=\"low\")[:2]\n",
    "#     local_max = lmax.to_frame().sort_values(by=\"low\", ascending=False)[:2]\n",
    "#\n",
    "#     candlestick2_ohlc(ax1, windata.open, windata.high,\n",
    "#\n",
    "#                       windata.low, windata.close,\n",
    "#                       colorup='g', colordown='r', width=0.66, alpha=0.8)\n",
    "#\n",
    "#     ax2 = plt.scatter(local_min.index, local_min.low, c='r')\n",
    "#     ax2 = plt.scatter(local_max.index, local_max.low, c='g')\n",
    "#     ax2 = plt.plot(windata[\"low\"].index, windata[\"low\"].values)\n",
    "#\n",
    "#     print(data[1].date)\n",
    "#\n",
    "#     plt.show()\n",
    "\n",
    "# class_0 = db_dataset[db_dataset[\"class\"] == 0]\n",
    "# class_1 = db_dataset[db_dataset[\"class\"] == 1]\n",
    "\n",
    "# n_min = 4\n",
    "# n_max = 1\n",
    "#\n",
    "# for data in class_1.iterrows():\n",
    "#     fig, (ax1, ax2) = plt.subplots(1, 2, figsize=(16, 4), sharey=True)\n",
    "#\n",
    "#     windata = ibex.loc[data[1].date:].head(window)\n",
    "#\n",
    "#     lows = windata.iloc[argrelextrema(windata.low.values, np.less_equal, order=n_min)[0]][\"low\"]\n",
    "#     lmax = windata.iloc[argrelextrema(windata.low.values, np.greater_equal, order=n_max)[0]][\"low\"]\n",
    "#\n",
    "#     local_min = lows.to_frame().sort_values(by=\"low\")[:2]\n",
    "#     local_max = lmax.to_frame().sort_values(by=\"low\", ascending=False)[:2]\n",
    "#     local_max = lmax.to_frame()\n",
    "#\n",
    "#     candlestick2_ohlc(ax1, windata.open, windata.high,\n",
    "#\n",
    "#                       windata.low, windata.close,\n",
    "#                       colorup='g', colordown='r', width=0.66, alpha=0.8)\n",
    "#\n",
    "#     ax2 = plt.scatter(local_min.index, local_min.low, c='r')\n",
    "#     ax2 = plt.scatter(local_max.index, local_max.low, c='g')\n",
    "#     ax2 = plt.plot(windata[\"low\"].index, windata[\"low\"].values)\n",
    "#\n",
    "#     print(data[1].date)\n",
    "#\n",
    "#     plt.show()\n"
   ],
   "metadata": {
    "collapsed": false,
    "pycharm": {
     "name": "#%%\n"
    }
   }
  },
  {
   "cell_type": "markdown",
   "source": [
    "### maximos locales"
   ],
   "metadata": {
    "collapsed": false,
    "pycharm": {
     "name": "#%% md\n"
    }
   }
  },
  {
   "cell_type": "code",
   "execution_count": null,
   "outputs": [],
   "source": [],
   "metadata": {
    "collapsed": false,
    "pycharm": {
     "name": "#%%\n"
    }
   }
  },
  {
   "cell_type": "code",
   "execution_count": null,
   "outputs": [],
   "source": [
    "fig, (ax1, ax2) = plt.subplots(1, 2, figsize=(16, 4), sharey=True)\n",
    "\n",
    "windata = ibex.loc[data[1].date:].head(window)\n",
    "lows = windata.iloc[argrelextrema(windata.low.values, np.less_equal, order=n_min)[0]][\"low\"]\n",
    "lmax = windata.iloc[argrelextrema(windata.high.values, np.greater_equal, order=n_max)[0]][\"high\"]\n",
    "\n",
    "local_min = lows.to_frame().sort_values(by=\"low\")[:2]\n",
    "local_max = lmax.to_frame().sort_values(by=\"high\", ascending=False)[:2]\n",
    "\n",
    "candlestick2_ohlc(ax1, windata.open, windata.high,\n",
    "\n",
    "                  windata.low, windata.close,\n",
    "                  colorup='g', colordown='r', width=0.66, alpha=0.8)\n",
    "\n",
    "ax2 = plt.scatter(local_min.index, local_min.low, c='r')\n",
    "ax2 = plt.scatter(local_max.index, local_max.high, c='g')\n",
    "ax2 = plt.plot(windata[\"low\"].index, windata[\"high\"].values)\n",
    "\n",
    "\n"
   ],
   "metadata": {
    "collapsed": false,
    "pycharm": {
     "name": "#%%\n"
    }
   }
  },
  {
   "cell_type": "code",
   "execution_count": null,
   "outputs": [],
   "source": [
    "lmax = windata.iloc[argrelextrema(windata.high.values, np.greater_equal, order=n_max)[0]][\"high\"]\n",
    "local_max = lmax.to_frame().sort_values(by=\"high\", ascending=False)[:2]\n",
    "candlestick2_ohlc(ax1, windata.open, windata.high,\n",
    "                  windata.low, windata.close,\n",
    "                  colorup='g', colordown='r', width=0.66, alpha=0.8)\n",
    "\n",
    "ax2 = plt.scatter(local_min.index, local_min.low, c='r')\n",
    "ax2 = plt.scatter(local_max.index, local_max.high, c='g')\n",
    "ax2 = plt.plot(windata[\"low\"].index, windata[\"high\"].values)\n",
    "local_max"
   ],
   "metadata": {
    "collapsed": false,
    "pycharm": {
     "name": "#%%\n"
    }
   }
  },
  {
   "cell_type": "markdown",
   "source": [
    "### Visualizar caracteristicas"
   ],
   "metadata": {
    "collapsed": false,
    "pycharm": {
     "name": "#%% md\n"
    }
   }
  },
  {
   "cell_type": "code",
   "execution_count": null,
   "outputs": [],
   "source": [],
   "metadata": {
    "collapsed": false,
    "pycharm": {
     "name": "#%%\n"
    }
   }
  },
  {
   "cell_type": "code",
   "execution_count": 14,
   "outputs": [],
   "source": [
    "import matplotlib.pyplot as plt\n",
    "\n",
    "# plt.scatter(datos_etiquetados[datos_etiquetados[\"class\"] == 0][\"class\"],datos_etiquetados[datos_etiquetados[\"class\"] == 0][\"dias_entre_minimos\"] , c='r')\n",
    "# plt.scatter(datos_etiquetados[datos_etiquetados[\"class\"] == 1][\"class\"],datos_etiquetados[datos_etiquetados[\"class\"] == 1][\"dias_entre_minimos\"], c='g')\n",
    "# plt.show()"
   ],
   "metadata": {
    "collapsed": false,
    "pycharm": {
     "name": "#%%\n"
    }
   }
  },
  {
   "cell_type": "code",
   "execution_count": 15,
   "outputs": [],
   "source": [
    "# import matplotlib.pyplot as plt\n",
    "# plt.scatter(datos_etiquetados[datos_etiquetados[\"class\"] == 0][\"class\"],datos_etiquetados[datos_etiquetados[\"class\"] == 0][\"distancia_precio_minimos\"] , c='r')\n",
    "# plt.scatter(datos_etiquetados[datos_etiquetados[\"class\"] == 1][\"class\"],datos_etiquetados[datos_etiquetados[\"class\"] == 1][\"distancia_precio_minimos\"], c='g')\n",
    "# plt.show()"
   ],
   "metadata": {
    "collapsed": false,
    "pycharm": {
     "name": "#%%\n"
    }
   }
  },
  {
   "cell_type": "code",
   "execution_count": 16,
   "outputs": [],
   "source": [
    "# plt.show()\n",
    "# import matplotlib.pyplot as plt\n",
    "#\n",
    "# plt.scatter(datos_etiquetados[datos_etiquetados[\"class\"] == 0][\"class\"],\n",
    "#             datos_etiquetados[datos_etiquetados[\"class\"] == 0][\"retorno\"], c='r')\n",
    "# plt.scatter(datos_etiquetados[datos_etiquetados[\"class\"] == 1][\"class\"],\n",
    "#             datos_etiquetados[datos_etiquetados[\"class\"] == 1][\"retorno\"], c='g')\n",
    "# plt.show()"
   ],
   "metadata": {
    "collapsed": false,
    "pycharm": {
     "name": "#%%\n"
    }
   }
  },
  {
   "cell_type": "code",
   "execution_count": 17,
   "outputs": [],
   "source": [
    "# plt.show()\n",
    "# import matplotlib.pyplot as plt\n",
    "#\n",
    "# plt.scatter(datos_etiquetados[datos_etiquetados[\"class\"] == 0][\"class\"],\n",
    "#             datos_etiquetados[datos_etiquetados[\"class\"] == 0][\"n_local_max\"], c='r')\n",
    "# plt.scatter(datos_etiquetados[datos_etiquetados[\"class\"] == 1][\"class\"],\n",
    "#             datos_etiquetados[datos_etiquetados[\"class\"] == 1][\"n_local_max\"], c='g')\n",
    "# plt.show()"
   ],
   "metadata": {
    "collapsed": false,
    "pycharm": {
     "name": "#%%\n"
    }
   }
  },
  {
   "cell_type": "code",
   "execution_count": 18,
   "outputs": [],
   "source": [
    "# plt.show()\n",
    "# import matplotlib.pyplot as plt\n",
    "#\n",
    "# plt.scatter(datos_etiquetados[datos_etiquetados[\"class\"] == 0][\"class\"],\n",
    "#             datos_etiquetados[datos_etiquetados[\"class\"] == 0][\"distancia_primer_dia_minimo_local\"], c='r')\n",
    "# plt.scatter(datos_etiquetados[datos_etiquetados[\"class\"] == 1][\"class\"],\n",
    "#             datos_etiquetados[datos_etiquetados[\"class\"] == 1][\"distancia_primer_dia_minimo_local\"], c='g')\n",
    "# plt.show()"
   ],
   "metadata": {
    "collapsed": false,
    "pycharm": {
     "name": "#%%\n"
    }
   }
  },
  {
   "cell_type": "code",
   "execution_count": 19,
   "outputs": [],
   "source": [
    "# plt.show()\n",
    "# plt.show()\n",
    "# import matplotlib.pyplot as plt\n",
    "#\n",
    "# plt.scatter(datos_etiquetados[datos_etiquetados[\"class\"] == 0][\"class\"],\n",
    "#             datos_etiquetados[datos_etiquetados[\"class\"] == 0][\"diferencia_precio\"], c='r')\n",
    "# plt.scatter(datos_etiquetados[datos_etiquetados[\"class\"] == 1][\"class\"],\n",
    "#             datos_etiquetados[datos_etiquetados[\"class\"] == 1][\"diferencia_precio\"], c='g')\n",
    "# plt.show()"
   ],
   "metadata": {
    "collapsed": false,
    "pycharm": {
     "name": "#%%\n"
    }
   }
  },
  {
   "cell_type": "code",
   "execution_count": 37,
   "outputs": [
    {
     "data": {
      "text/plain": "     is_min_before_max  dias_entre_minimos  distancia_precio_minimos  retorno  \\\n0                  0.0                14.0                     248.5  -0.1632   \n1                  1.0                41.0                     595.4   0.0524   \n2                  1.0                16.0                      42.4   0.0179   \n3                  0.0                17.0                      11.1  -0.0721   \n4                  1.0                28.0                     483.4   0.0618   \n..                 ...                 ...                       ...      ...   \n161                0.0                12.0                      27.5  -0.0197   \n162                1.0                20.0                      43.8   0.1266   \n163                1.0                15.0                      26.6   0.1484   \n164                1.0                16.0                      26.7   0.0342   \n165                1.0                 9.0                      52.5   0.0436   \n\n     distancia_primer_dia_minimo_local  n_local_max  diferencia_precio  \\\n0                                 26.0          3.0             -503.5   \n1                                 -1.0          7.0             -117.4   \n2                                  5.0          2.0               88.6   \n3                                 24.0          3.0             -203.3   \n4                                  6.0          4.0               59.2   \n..                                 ...          ...                ...   \n161                               21.0          1.0              387.8   \n162                                4.0          3.0             1081.9   \n163                               -1.0          3.0              795.5   \n164                               -1.0          2.0              259.7   \n165                                5.0          1.0              907.4   \n\n    dias_entre_maximosdistancia_primer_dia_maximo_local  \\\n0                                                  NaN    \n1                                                  NaN    \n2                                                  NaN    \n3                                                  NaN    \n4                                                  NaN    \n..                                                 ...    \n161                                                NaN    \n162                                                NaN    \n163                                                NaN    \n164                                                NaN    \n165                                                NaN    \n\n     distancia_precio_maximos  class  dias_entre_maximos  \\\n0                       296.7    0.0                10.0   \n1                        48.5    0.0                 6.0   \n2                         8.9    0.0                21.0   \n3                        45.1    0.0                 2.0   \n4                        34.1    0.0                13.0   \n..                        ...    ...                 ...   \n161                     117.5    0.0                 4.0   \n162                     672.6    0.0                 9.0   \n163                     197.9    0.0                 9.0   \n164                      16.6    0.0                 6.0   \n165                      75.2    0.0                 7.0   \n\n     distancia_primer_dia_maximo_local  \n0                                  1.0  \n1                                 34.0  \n2                                  8.0  \n3                                  3.0  \n4                                 28.0  \n..                                 ...  \n161                               -1.0  \n162                               32.0  \n163                               33.0  \n164                               31.0  \n165                               35.0  \n\n[166 rows x 12 columns]",
      "text/html": "<div>\n<style scoped>\n    .dataframe tbody tr th:only-of-type {\n        vertical-align: middle;\n    }\n\n    .dataframe tbody tr th {\n        vertical-align: top;\n    }\n\n    .dataframe thead th {\n        text-align: right;\n    }\n</style>\n<table border=\"1\" class=\"dataframe\">\n  <thead>\n    <tr style=\"text-align: right;\">\n      <th></th>\n      <th>is_min_before_max</th>\n      <th>dias_entre_minimos</th>\n      <th>distancia_precio_minimos</th>\n      <th>retorno</th>\n      <th>distancia_primer_dia_minimo_local</th>\n      <th>n_local_max</th>\n      <th>diferencia_precio</th>\n      <th>dias_entre_maximosdistancia_primer_dia_maximo_local</th>\n      <th>distancia_precio_maximos</th>\n      <th>class</th>\n      <th>dias_entre_maximos</th>\n      <th>distancia_primer_dia_maximo_local</th>\n    </tr>\n  </thead>\n  <tbody>\n    <tr>\n      <th>0</th>\n      <td>0.0</td>\n      <td>14.0</td>\n      <td>248.5</td>\n      <td>-0.1632</td>\n      <td>26.0</td>\n      <td>3.0</td>\n      <td>-503.5</td>\n      <td>NaN</td>\n      <td>296.7</td>\n      <td>0.0</td>\n      <td>10.0</td>\n      <td>1.0</td>\n    </tr>\n    <tr>\n      <th>1</th>\n      <td>1.0</td>\n      <td>41.0</td>\n      <td>595.4</td>\n      <td>0.0524</td>\n      <td>-1.0</td>\n      <td>7.0</td>\n      <td>-117.4</td>\n      <td>NaN</td>\n      <td>48.5</td>\n      <td>0.0</td>\n      <td>6.0</td>\n      <td>34.0</td>\n    </tr>\n    <tr>\n      <th>2</th>\n      <td>1.0</td>\n      <td>16.0</td>\n      <td>42.4</td>\n      <td>0.0179</td>\n      <td>5.0</td>\n      <td>2.0</td>\n      <td>88.6</td>\n      <td>NaN</td>\n      <td>8.9</td>\n      <td>0.0</td>\n      <td>21.0</td>\n      <td>8.0</td>\n    </tr>\n    <tr>\n      <th>3</th>\n      <td>0.0</td>\n      <td>17.0</td>\n      <td>11.1</td>\n      <td>-0.0721</td>\n      <td>24.0</td>\n      <td>3.0</td>\n      <td>-203.3</td>\n      <td>NaN</td>\n      <td>45.1</td>\n      <td>0.0</td>\n      <td>2.0</td>\n      <td>3.0</td>\n    </tr>\n    <tr>\n      <th>4</th>\n      <td>1.0</td>\n      <td>28.0</td>\n      <td>483.4</td>\n      <td>0.0618</td>\n      <td>6.0</td>\n      <td>4.0</td>\n      <td>59.2</td>\n      <td>NaN</td>\n      <td>34.1</td>\n      <td>0.0</td>\n      <td>13.0</td>\n      <td>28.0</td>\n    </tr>\n    <tr>\n      <th>...</th>\n      <td>...</td>\n      <td>...</td>\n      <td>...</td>\n      <td>...</td>\n      <td>...</td>\n      <td>...</td>\n      <td>...</td>\n      <td>...</td>\n      <td>...</td>\n      <td>...</td>\n      <td>...</td>\n      <td>...</td>\n    </tr>\n    <tr>\n      <th>161</th>\n      <td>0.0</td>\n      <td>12.0</td>\n      <td>27.5</td>\n      <td>-0.0197</td>\n      <td>21.0</td>\n      <td>1.0</td>\n      <td>387.8</td>\n      <td>NaN</td>\n      <td>117.5</td>\n      <td>0.0</td>\n      <td>4.0</td>\n      <td>-1.0</td>\n    </tr>\n    <tr>\n      <th>162</th>\n      <td>1.0</td>\n      <td>20.0</td>\n      <td>43.8</td>\n      <td>0.1266</td>\n      <td>4.0</td>\n      <td>3.0</td>\n      <td>1081.9</td>\n      <td>NaN</td>\n      <td>672.6</td>\n      <td>0.0</td>\n      <td>9.0</td>\n      <td>32.0</td>\n    </tr>\n    <tr>\n      <th>163</th>\n      <td>1.0</td>\n      <td>15.0</td>\n      <td>26.6</td>\n      <td>0.1484</td>\n      <td>-1.0</td>\n      <td>3.0</td>\n      <td>795.5</td>\n      <td>NaN</td>\n      <td>197.9</td>\n      <td>0.0</td>\n      <td>9.0</td>\n      <td>33.0</td>\n    </tr>\n    <tr>\n      <th>164</th>\n      <td>1.0</td>\n      <td>16.0</td>\n      <td>26.7</td>\n      <td>0.0342</td>\n      <td>-1.0</td>\n      <td>2.0</td>\n      <td>259.7</td>\n      <td>NaN</td>\n      <td>16.6</td>\n      <td>0.0</td>\n      <td>6.0</td>\n      <td>31.0</td>\n    </tr>\n    <tr>\n      <th>165</th>\n      <td>1.0</td>\n      <td>9.0</td>\n      <td>52.5</td>\n      <td>0.0436</td>\n      <td>5.0</td>\n      <td>1.0</td>\n      <td>907.4</td>\n      <td>NaN</td>\n      <td>75.2</td>\n      <td>0.0</td>\n      <td>7.0</td>\n      <td>35.0</td>\n    </tr>\n  </tbody>\n</table>\n<p>166 rows × 12 columns</p>\n</div>"
     },
     "execution_count": 37,
     "metadata": {},
     "output_type": "execute_result"
    }
   ],
   "source": [
    "datos_etiquetados"
   ],
   "metadata": {
    "collapsed": false,
    "pycharm": {
     "name": "#%%\n"
    }
   }
  },
  {
   "cell_type": "markdown",
   "source": [],
   "metadata": {
    "collapsed": false,
    "pycharm": {
     "name": "#%% md\n"
    }
   }
  }
 ],
 "metadata": {
  "kernelspec": {
   "display_name": "Python 3",
   "language": "python",
   "name": "python3"
  },
  "language_info": {
   "codemirror_mode": {
    "name": "ipython",
    "version": 2
   },
   "file_extension": ".py",
   "mimetype": "text/x-python",
   "name": "python",
   "nbconvert_exporter": "python",
   "pygments_lexer": "ipython2",
   "version": "2.7.6"
  }
 },
 "nbformat": 4,
 "nbformat_minor": 0
}