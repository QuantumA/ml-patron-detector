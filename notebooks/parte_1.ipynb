{
 "cells": [
  {
   "cell_type": "code",
   "execution_count": null,
   "metadata": {
    "collapsed": true,
    "pycharm": {
     "name": "#%%\n",
     "is_executing": true
    }
   },
   "outputs": [],
   "source": [
    "import pandas as pd\n",
    "import pickle\n",
    "from mpl_finance import candlestick2_ohlc\n",
    "import matplotlib.pyplot as plt\n",
    "import numpy as np\n",
    "from scipy.signal import argrelextrema"
   ]
  },
  {
   "cell_type": "code",
   "execution_count": 5,
   "outputs": [],
   "source": [
    "with open('../data/benchmark_data.pkl', 'rb') as handle:\n",
    "    bm = pickle.load(handle)\n",
    "ibex = bm['ibex']\n",
    "\n",
    "db_dataset = pd.read_csv(\"../data/doble_suelo_balanceado.csv\")\n",
    "db_dataset[\"date\"] = pd.to_datetime(db_dataset[\"date\"], format=\"%Y-%m-%d\").to_frame()\n",
    "\n",
    "window = 30"
   ],
   "metadata": {
    "collapsed": false,
    "pycharm": {
     "name": "#%%\n"
    }
   }
  },
  {
   "cell_type": "markdown",
   "source": [
    "### Visualizar los datos"
   ],
   "metadata": {
    "collapsed": false,
    "pycharm": {
     "name": "#%% md\n"
    }
   }
  },
  {
   "cell_type": "markdown",
   "source": [
    "##### Positive OHLC"
   ],
   "metadata": {
    "collapsed": false,
    "pycharm": {
     "name": "#%% md\n"
    }
   }
  },
  {
   "cell_type": "code",
   "execution_count": null,
   "outputs": [],
   "source": [
    "class_0 = db_dataset[db_dataset[\"class\"] == 0]\n",
    "class_1 = db_dataset[db_dataset[\"class\"] == 1]\n",
    "\n",
    "for data in class_1.iterrows():\n",
    "    windata = ibex.loc[data[1].date:].head(window)\n",
    "\n",
    "    fig, ax = plt.subplots(figsize=(6, 4))\n",
    "    candlestick2_ohlc(ax, windata.open, windata.high,\n",
    "                      windata.low, windata.close,\n",
    "                      colorup='g', colordown='r', width=0.66, alpha=0.8)\n",
    "    print(data[1].date)\n",
    "    plt.show()\n"
   ],
   "metadata": {
    "collapsed": false,
    "pycharm": {
     "name": "#%%\n",
     "is_executing": true
    }
   }
  },
  {
   "cell_type": "markdown",
   "source": [
    "##### Negative OHLC"
   ],
   "metadata": {
    "collapsed": false,
    "pycharm": {
     "name": "#%% md\n"
    }
   }
  },
  {
   "cell_type": "code",
   "execution_count": null,
   "outputs": [],
   "source": [
    "for data in class_0[10:12].iterrows():\n",
    "    windata = ibex.loc[data[1].date:].head(window)\n",
    "\n",
    "    fig, ax = plt.subplots(figsize=(6, 4))\n",
    "    candlestick2_ohlc(ax, windata.open, windata.high,\n",
    "                      windata.low, windata.close,\n",
    "                      colorup='g', colordown='r', width=0.66, alpha=0.8)\n",
    "    print(data[1].date)\n",
    "    plt.show()"
   ],
   "metadata": {
    "collapsed": false,
    "pycharm": {
     "name": "#%%\n",
     "is_executing": true
    }
   }
  },
  {
   "cell_type": "code",
   "execution_count": null,
   "outputs": [],
   "source": [
    "class_0 = db_dataset[db_dataset[\"class\"] == 0]\n",
    "class_1 = db_dataset[db_dataset[\"class\"] == 1]\n",
    "\n",
    "n_min = 4\n",
    "n_max = 1\n",
    "\n",
    "for data in class_0.iterrows():\n",
    "    fig, (ax1, ax2) = plt.subplots(1, 2, figsize=(16, 4), sharey=True)\n",
    "\n",
    "    windata = ibex.loc[data[1].date:].head(window)\n",
    "\n",
    "    lows = windata.iloc[argrelextrema(windata.low.values, np.less_equal, order=n_min)[0]][\"low\"]\n",
    "    lmax = windata.iloc[argrelextrema(windata.low.values, np.greater_equal, order=n_max)[0]][\"low\"]\n",
    "\n",
    "    local_min = lows.to_frame().sort_values(by=\"low\")[:2]\n",
    "    local_max = lmax.to_frame().sort_values(by=\"low\", ascending=False)[:2]\n",
    "\n",
    "    candlestick2_ohlc(ax1, windata.open, windata.high,\n",
    "\n",
    "                      windata.low, windata.close,\n",
    "                      colorup='g', colordown='r', width=0.66, alpha=0.8)\n",
    "\n",
    "    ax2 = plt.scatter(local_min.index, local_min.low, c='r')\n",
    "    ax2 = plt.scatter(local_max.index, local_max.low, c='g')\n",
    "    ax2 = plt.plot(windata[\"low\"].index, windata[\"low\"].values)\n",
    "\n",
    "    print(data[1].date)\n",
    "\n",
    "    plt.show()\n"
   ],
   "metadata": {
    "collapsed": false,
    "pycharm": {
     "name": "#%%\n",
     "is_executing": true
    }
   }
  },
  {
   "cell_type": "code",
   "execution_count": null,
   "outputs": [],
   "source": [
    "class_0 = db_dataset[db_dataset[\"class\"] == 0]\n",
    "class_1 = db_dataset[db_dataset[\"class\"] == 1]\n",
    "\n",
    "n_min = 4\n",
    "n_max = 1\n",
    "\n",
    "for data in class_1.iterrows():\n",
    "    fig, (ax1, ax2) = plt.subplots(1, 2, figsize=(16, 4), sharey=True)\n",
    "\n",
    "    windata = ibex.loc[data[1].date:].head(window)\n",
    "\n",
    "    lows = windata.iloc[argrelextrema(windata.low.values, np.less_equal, order=n_min)[0]][\"low\"]\n",
    "    lmax = windata.iloc[argrelextrema(windata.low.values, np.greater_equal, order=n_max)[0]][\"low\"]\n",
    "\n",
    "    local_min = lows.to_frame().sort_values(by=\"low\")[:2]\n",
    "    local_max = lmax.to_frame().sort_values(by=\"low\", ascending=False)[:2]\n",
    "    local_max = lmax.to_frame()\n",
    "\n",
    "    candlestick2_ohlc(ax1, windata.open, windata.high,\n",
    "\n",
    "                      windata.low, windata.close,\n",
    "                      colorup='g', colordown='r', width=0.66, alpha=0.8)\n",
    "\n",
    "    ax2 = plt.scatter(local_min.index, local_min.low, c='r')\n",
    "    ax2 = plt.scatter(local_max.index, local_max.low, c='g')\n",
    "    ax2 = plt.plot(windata[\"low\"].index, windata[\"low\"].values)\n",
    "\n",
    "    print(data[1].date)\n",
    "\n",
    "    plt.show()\n"
   ],
   "metadata": {
    "collapsed": false,
    "pycharm": {
     "name": "#%%\n",
     "is_executing": true
    }
   }
  },
  {
   "cell_type": "raw",
   "source": [
    "Etiquetado de datos\n",
    "Sobre los datos originales añadirán las siguientes caracteristicas:\n",
    "- Si ocurren antes el minimo o el maximo\n",
    "- distancia entre los dos minimos en días\n",
    "- distancia entre los dos minimos en precio\n",
    "- retorno de la ventana\n",
    "- distancia de la primera vela al primer minimo\n",
    "- diferencia entre el precio del primer dia y el primer minimo\n",
    "- distancia en dias entre el segundo minimo y el ultimo día\n",
    "- numero de máximos locales entre los dos minimos"
   ],
   "metadata": {
    "collapsed": false,
    "pycharm": {
     "name": "#%% raw\n"
    }
   }
  },
  {
   "cell_type": "code",
   "execution_count": 7,
   "outputs": [],
   "source": [
    "datos_etiquetados = pd.DataFrame(\n",
    "    columns=[\"is_min_before_max\", \"dias_entre_minimos\", \"distancia_precio_minimos\", \"retorno\",\n",
    "             \"distancia_primer_dia_minimo_local\", \"n_local_max\", \"diferencia_precio\", \"class\"])"
   ],
   "metadata": {
    "collapsed": false,
    "pycharm": {
     "name": "#%%\n"
    }
   }
  },
  {
   "cell_type": "code",
   "execution_count": 416,
   "outputs": [
    {
     "data": {
      "text/plain": "Empty DataFrame\nColumns: [is_min_before_max, dias_entre_minimos, distancia_precio_minimos, retorno, distancia_primer_dia_minimo_local, n_local_max, diferencia_precio, class]\nIndex: []",
      "text/html": "<div>\n<style scoped>\n    .dataframe tbody tr th:only-of-type {\n        vertical-align: middle;\n    }\n\n    .dataframe tbody tr th {\n        vertical-align: top;\n    }\n\n    .dataframe thead th {\n        text-align: right;\n    }\n</style>\n<table border=\"1\" class=\"dataframe\">\n  <thead>\n    <tr style=\"text-align: right;\">\n      <th></th>\n      <th>is_min_before_max</th>\n      <th>dias_entre_minimos</th>\n      <th>distancia_precio_minimos</th>\n      <th>retorno</th>\n      <th>distancia_primer_dia_minimo_local</th>\n      <th>n_local_max</th>\n      <th>diferencia_precio</th>\n      <th>class</th>\n    </tr>\n  </thead>\n  <tbody>\n  </tbody>\n</table>\n</div>"
     },
     "execution_count": 416,
     "metadata": {},
     "output_type": "execute_result"
    }
   ],
   "source": [],
   "metadata": {
    "collapsed": false,
    "pycharm": {
     "name": "#%%\n"
    }
   }
  },
  {
   "cell_type": "raw",
   "source": [],
   "metadata": {
    "collapsed": false,
    "pycharm": {
     "name": "#%% raw\n"
    }
   }
  },
  {
   "cell_type": "code",
   "execution_count": 8,
   "outputs": [],
   "source": [
    "def etiquetado_datos(window_df: pd.DataFrame):\n",
    "    lows = window_df.iloc[argrelextrema(window_df.low.values, np.less_equal, order=n_min)[0]][\"low\"]\n",
    "    lmax = windata.iloc[argrelextrema(windata.low.values, np.greater_equal, order=n_max)[0]][\"low\"]\n",
    "\n",
    "    lclose = window_df.iloc[argrelextrema(window_df.close.values, np.greater_equal, order=n_min)[0]][\"close\"]\n",
    "\n",
    "    # Si ocurren antes el minimo o el maximo\n",
    "    is_min_before_max = int(\n",
    "        window_df.iloc[np.argmin(window_df[\"low\"])].name < window_df.iloc[np.argmax(window_df[\"low\"])].name)\n",
    "\n",
    "    # distancia entre los dos minimos en días\n",
    "    local_min = lows.to_frame().sort_values(by=\"low\")[:2]\n",
    "\n",
    "    if len(local_min) == 2:\n",
    "        dias_entre_minimos = abs((local_min.iloc[0].name - local_min.iloc[1].name).days)\n",
    "    else:\n",
    "        dias_entre_minimos = -1\n",
    "\n",
    "    # distancia entre los dos minimos en precio\n",
    "    if len(local_min) == 2:\n",
    "        distancia_precio_minimos = round(abs(local_min.iloc[0].low - local_min.iloc[1].low), 2)\n",
    "    else:\n",
    "        distancia_precio_minimos = -1\n",
    "\n",
    "    # retorno de la ventana\n",
    "    retorno = round(np.sum(np.log(windata[\"close\"]).diff()), 4)\n",
    "\n",
    "    # distancia de la primera vela al primer minimo\n",
    "    if len(local_min) == 2:\n",
    "        dt_ordered_local_min = local_min.sort_index()\n",
    "        primer_dia_ventana = windata.iloc[0].name\n",
    "        dia_primer_minimo = dt_ordered_local_min.iloc[0].name\n",
    "        distancia_primer_dia_minimo_local = abs((primer_dia_ventana - dia_primer_minimo).days)\n",
    "        if distancia_primer_dia_minimo_local == 0:\n",
    "            distancia_primer_dia_minimo_local = -1\n",
    "    else:\n",
    "        distancia_primer_dia_minimo_local = -1\n",
    "\n",
    "    # numero de maximos locales entre dos minimos\n",
    "    if len(local_min) == 2:\n",
    "        dt_ordered_local_min = local_min.sort_index()\n",
    "        l_max = (lmax.to_frame().index > dt_ordered_local_min.iloc[0].name) * (\n",
    "                lmax.to_frame().index < dt_ordered_local_min.iloc[1].name)\n",
    "        n_local_max = len(lmax[l_max])\n",
    "    else:\n",
    "        n_local_max = -1\n",
    "\n",
    "    # diferencia entre el cierre del maximo local entre dos minimos y el maximo después del segundo minimo local\n",
    "    if len(local_min) == 2:\n",
    "        dt_ordered_local_min = local_min.sort_index()\n",
    "        l_max = (lmax.to_frame().index > dt_ordered_local_min.iloc[0].name) * (\n",
    "                lmax.to_frame().index < dt_ordered_local_min.iloc[1].name)\n",
    "        precio_maximo_local = lmax[l_max].max()\n",
    "        precio_maximo_final = windata[dt_ordered_local_min.iloc[1].name:].close.max()\n",
    "        diferencia_precio = round(precio_maximo_final - precio_maximo_local, 4)\n",
    "    else:\n",
    "        diferencia_precio = 0\n",
    "\n",
    "    return is_min_before_max, dias_entre_minimos, distancia_precio_minimos, retorno, distancia_primer_dia_minimo_local, n_local_max, diferencia_precio\n",
    "\n"
   ],
   "metadata": {
    "collapsed": false,
    "pycharm": {
     "name": "#%%\n"
    }
   }
  },
  {
   "cell_type": "code",
   "execution_count": 9,
   "outputs": [
    {
     "name": "stderr",
     "output_type": "stream",
     "text": [
      "/tmp/ipykernel_4069/478762673.py:52: FutureWarning: The frame.append method is deprecated and will be removed from pandas in a future version. Use pandas.concat instead.\n",
      "  datos_etiquetados = datos_etiquetados.append(labeled_obs, ignore_index=True)\n",
      "/tmp/ipykernel_4069/478762673.py:52: FutureWarning: The frame.append method is deprecated and will be removed from pandas in a future version. Use pandas.concat instead.\n",
      "  datos_etiquetados = datos_etiquetados.append(labeled_obs, ignore_index=True)\n",
      "/tmp/ipykernel_4069/478762673.py:52: FutureWarning: The frame.append method is deprecated and will be removed from pandas in a future version. Use pandas.concat instead.\n",
      "  datos_etiquetados = datos_etiquetados.append(labeled_obs, ignore_index=True)\n",
      "/tmp/ipykernel_4069/478762673.py:52: FutureWarning: The frame.append method is deprecated and will be removed from pandas in a future version. Use pandas.concat instead.\n",
      "  datos_etiquetados = datos_etiquetados.append(labeled_obs, ignore_index=True)\n",
      "/tmp/ipykernel_4069/478762673.py:52: FutureWarning: The frame.append method is deprecated and will be removed from pandas in a future version. Use pandas.concat instead.\n",
      "  datos_etiquetados = datos_etiquetados.append(labeled_obs, ignore_index=True)\n",
      "/tmp/ipykernel_4069/478762673.py:52: FutureWarning: The frame.append method is deprecated and will be removed from pandas in a future version. Use pandas.concat instead.\n",
      "  datos_etiquetados = datos_etiquetados.append(labeled_obs, ignore_index=True)\n",
      "/tmp/ipykernel_4069/478762673.py:52: FutureWarning: The frame.append method is deprecated and will be removed from pandas in a future version. Use pandas.concat instead.\n",
      "  datos_etiquetados = datos_etiquetados.append(labeled_obs, ignore_index=True)\n",
      "/tmp/ipykernel_4069/478762673.py:52: FutureWarning: The frame.append method is deprecated and will be removed from pandas in a future version. Use pandas.concat instead.\n",
      "  datos_etiquetados = datos_etiquetados.append(labeled_obs, ignore_index=True)\n",
      "/tmp/ipykernel_4069/478762673.py:52: FutureWarning: The frame.append method is deprecated and will be removed from pandas in a future version. Use pandas.concat instead.\n",
      "  datos_etiquetados = datos_etiquetados.append(labeled_obs, ignore_index=True)\n",
      "/tmp/ipykernel_4069/478762673.py:52: FutureWarning: The frame.append method is deprecated and will be removed from pandas in a future version. Use pandas.concat instead.\n",
      "  datos_etiquetados = datos_etiquetados.append(labeled_obs, ignore_index=True)\n",
      "/tmp/ipykernel_4069/478762673.py:52: FutureWarning: The frame.append method is deprecated and will be removed from pandas in a future version. Use pandas.concat instead.\n",
      "  datos_etiquetados = datos_etiquetados.append(labeled_obs, ignore_index=True)\n",
      "/tmp/ipykernel_4069/478762673.py:52: FutureWarning: The frame.append method is deprecated and will be removed from pandas in a future version. Use pandas.concat instead.\n",
      "  datos_etiquetados = datos_etiquetados.append(labeled_obs, ignore_index=True)\n",
      "/tmp/ipykernel_4069/478762673.py:52: FutureWarning: The frame.append method is deprecated and will be removed from pandas in a future version. Use pandas.concat instead.\n",
      "  datos_etiquetados = datos_etiquetados.append(labeled_obs, ignore_index=True)\n",
      "/tmp/ipykernel_4069/478762673.py:52: FutureWarning: The frame.append method is deprecated and will be removed from pandas in a future version. Use pandas.concat instead.\n",
      "  datos_etiquetados = datos_etiquetados.append(labeled_obs, ignore_index=True)\n",
      "/tmp/ipykernel_4069/478762673.py:52: FutureWarning: The frame.append method is deprecated and will be removed from pandas in a future version. Use pandas.concat instead.\n",
      "  datos_etiquetados = datos_etiquetados.append(labeled_obs, ignore_index=True)\n",
      "/tmp/ipykernel_4069/478762673.py:52: FutureWarning: The frame.append method is deprecated and will be removed from pandas in a future version. Use pandas.concat instead.\n",
      "  datos_etiquetados = datos_etiquetados.append(labeled_obs, ignore_index=True)\n",
      "/tmp/ipykernel_4069/478762673.py:52: FutureWarning: The frame.append method is deprecated and will be removed from pandas in a future version. Use pandas.concat instead.\n",
      "  datos_etiquetados = datos_etiquetados.append(labeled_obs, ignore_index=True)\n",
      "/tmp/ipykernel_4069/478762673.py:52: FutureWarning: The frame.append method is deprecated and will be removed from pandas in a future version. Use pandas.concat instead.\n",
      "  datos_etiquetados = datos_etiquetados.append(labeled_obs, ignore_index=True)\n",
      "/tmp/ipykernel_4069/478762673.py:52: FutureWarning: The frame.append method is deprecated and will be removed from pandas in a future version. Use pandas.concat instead.\n",
      "  datos_etiquetados = datos_etiquetados.append(labeled_obs, ignore_index=True)\n",
      "/tmp/ipykernel_4069/478762673.py:52: FutureWarning: The frame.append method is deprecated and will be removed from pandas in a future version. Use pandas.concat instead.\n",
      "  datos_etiquetados = datos_etiquetados.append(labeled_obs, ignore_index=True)\n",
      "/tmp/ipykernel_4069/478762673.py:52: FutureWarning: The frame.append method is deprecated and will be removed from pandas in a future version. Use pandas.concat instead.\n",
      "  datos_etiquetados = datos_etiquetados.append(labeled_obs, ignore_index=True)\n",
      "/tmp/ipykernel_4069/478762673.py:52: FutureWarning: The frame.append method is deprecated and will be removed from pandas in a future version. Use pandas.concat instead.\n",
      "  datos_etiquetados = datos_etiquetados.append(labeled_obs, ignore_index=True)\n",
      "/tmp/ipykernel_4069/478762673.py:52: FutureWarning: The frame.append method is deprecated and will be removed from pandas in a future version. Use pandas.concat instead.\n",
      "  datos_etiquetados = datos_etiquetados.append(labeled_obs, ignore_index=True)\n",
      "/tmp/ipykernel_4069/478762673.py:52: FutureWarning: The frame.append method is deprecated and will be removed from pandas in a future version. Use pandas.concat instead.\n",
      "  datos_etiquetados = datos_etiquetados.append(labeled_obs, ignore_index=True)\n",
      "/tmp/ipykernel_4069/478762673.py:52: FutureWarning: The frame.append method is deprecated and will be removed from pandas in a future version. Use pandas.concat instead.\n",
      "  datos_etiquetados = datos_etiquetados.append(labeled_obs, ignore_index=True)\n",
      "/tmp/ipykernel_4069/478762673.py:52: FutureWarning: The frame.append method is deprecated and will be removed from pandas in a future version. Use pandas.concat instead.\n",
      "  datos_etiquetados = datos_etiquetados.append(labeled_obs, ignore_index=True)\n",
      "/tmp/ipykernel_4069/478762673.py:52: FutureWarning: The frame.append method is deprecated and will be removed from pandas in a future version. Use pandas.concat instead.\n",
      "  datos_etiquetados = datos_etiquetados.append(labeled_obs, ignore_index=True)\n",
      "/tmp/ipykernel_4069/478762673.py:52: FutureWarning: The frame.append method is deprecated and will be removed from pandas in a future version. Use pandas.concat instead.\n",
      "  datos_etiquetados = datos_etiquetados.append(labeled_obs, ignore_index=True)\n",
      "/tmp/ipykernel_4069/478762673.py:52: FutureWarning: The frame.append method is deprecated and will be removed from pandas in a future version. Use pandas.concat instead.\n",
      "  datos_etiquetados = datos_etiquetados.append(labeled_obs, ignore_index=True)\n",
      "/tmp/ipykernel_4069/478762673.py:52: FutureWarning: The frame.append method is deprecated and will be removed from pandas in a future version. Use pandas.concat instead.\n",
      "  datos_etiquetados = datos_etiquetados.append(labeled_obs, ignore_index=True)\n",
      "/tmp/ipykernel_4069/478762673.py:52: FutureWarning: The frame.append method is deprecated and will be removed from pandas in a future version. Use pandas.concat instead.\n",
      "  datos_etiquetados = datos_etiquetados.append(labeled_obs, ignore_index=True)\n",
      "/tmp/ipykernel_4069/478762673.py:52: FutureWarning: The frame.append method is deprecated and will be removed from pandas in a future version. Use pandas.concat instead.\n",
      "  datos_etiquetados = datos_etiquetados.append(labeled_obs, ignore_index=True)\n",
      "/tmp/ipykernel_4069/478762673.py:52: FutureWarning: The frame.append method is deprecated and will be removed from pandas in a future version. Use pandas.concat instead.\n",
      "  datos_etiquetados = datos_etiquetados.append(labeled_obs, ignore_index=True)\n",
      "/tmp/ipykernel_4069/478762673.py:52: FutureWarning: The frame.append method is deprecated and will be removed from pandas in a future version. Use pandas.concat instead.\n",
      "  datos_etiquetados = datos_etiquetados.append(labeled_obs, ignore_index=True)\n",
      "/tmp/ipykernel_4069/478762673.py:52: FutureWarning: The frame.append method is deprecated and will be removed from pandas in a future version. Use pandas.concat instead.\n",
      "  datos_etiquetados = datos_etiquetados.append(labeled_obs, ignore_index=True)\n",
      "/tmp/ipykernel_4069/478762673.py:52: FutureWarning: The frame.append method is deprecated and will be removed from pandas in a future version. Use pandas.concat instead.\n",
      "  datos_etiquetados = datos_etiquetados.append(labeled_obs, ignore_index=True)\n",
      "/tmp/ipykernel_4069/478762673.py:52: FutureWarning: The frame.append method is deprecated and will be removed from pandas in a future version. Use pandas.concat instead.\n",
      "  datos_etiquetados = datos_etiquetados.append(labeled_obs, ignore_index=True)\n",
      "/tmp/ipykernel_4069/478762673.py:52: FutureWarning: The frame.append method is deprecated and will be removed from pandas in a future version. Use pandas.concat instead.\n",
      "  datos_etiquetados = datos_etiquetados.append(labeled_obs, ignore_index=True)\n",
      "/tmp/ipykernel_4069/478762673.py:52: FutureWarning: The frame.append method is deprecated and will be removed from pandas in a future version. Use pandas.concat instead.\n",
      "  datos_etiquetados = datos_etiquetados.append(labeled_obs, ignore_index=True)\n",
      "/tmp/ipykernel_4069/478762673.py:52: FutureWarning: The frame.append method is deprecated and will be removed from pandas in a future version. Use pandas.concat instead.\n",
      "  datos_etiquetados = datos_etiquetados.append(labeled_obs, ignore_index=True)\n",
      "/tmp/ipykernel_4069/478762673.py:52: FutureWarning: The frame.append method is deprecated and will be removed from pandas in a future version. Use pandas.concat instead.\n",
      "  datos_etiquetados = datos_etiquetados.append(labeled_obs, ignore_index=True)\n",
      "/tmp/ipykernel_4069/478762673.py:52: FutureWarning: The frame.append method is deprecated and will be removed from pandas in a future version. Use pandas.concat instead.\n",
      "  datos_etiquetados = datos_etiquetados.append(labeled_obs, ignore_index=True)\n",
      "/tmp/ipykernel_4069/478762673.py:52: FutureWarning: The frame.append method is deprecated and will be removed from pandas in a future version. Use pandas.concat instead.\n",
      "  datos_etiquetados = datos_etiquetados.append(labeled_obs, ignore_index=True)\n",
      "/tmp/ipykernel_4069/478762673.py:52: FutureWarning: The frame.append method is deprecated and will be removed from pandas in a future version. Use pandas.concat instead.\n",
      "  datos_etiquetados = datos_etiquetados.append(labeled_obs, ignore_index=True)\n",
      "/tmp/ipykernel_4069/478762673.py:52: FutureWarning: The frame.append method is deprecated and will be removed from pandas in a future version. Use pandas.concat instead.\n",
      "  datos_etiquetados = datos_etiquetados.append(labeled_obs, ignore_index=True)\n",
      "/tmp/ipykernel_4069/478762673.py:52: FutureWarning: The frame.append method is deprecated and will be removed from pandas in a future version. Use pandas.concat instead.\n",
      "  datos_etiquetados = datos_etiquetados.append(labeled_obs, ignore_index=True)\n",
      "/tmp/ipykernel_4069/478762673.py:52: FutureWarning: The frame.append method is deprecated and will be removed from pandas in a future version. Use pandas.concat instead.\n",
      "  datos_etiquetados = datos_etiquetados.append(labeled_obs, ignore_index=True)\n",
      "/tmp/ipykernel_4069/478762673.py:52: FutureWarning: The frame.append method is deprecated and will be removed from pandas in a future version. Use pandas.concat instead.\n",
      "  datos_etiquetados = datos_etiquetados.append(labeled_obs, ignore_index=True)\n",
      "/tmp/ipykernel_4069/478762673.py:52: FutureWarning: The frame.append method is deprecated and will be removed from pandas in a future version. Use pandas.concat instead.\n",
      "  datos_etiquetados = datos_etiquetados.append(labeled_obs, ignore_index=True)\n",
      "/tmp/ipykernel_4069/478762673.py:52: FutureWarning: The frame.append method is deprecated and will be removed from pandas in a future version. Use pandas.concat instead.\n",
      "  datos_etiquetados = datos_etiquetados.append(labeled_obs, ignore_index=True)\n",
      "/tmp/ipykernel_4069/478762673.py:52: FutureWarning: The frame.append method is deprecated and will be removed from pandas in a future version. Use pandas.concat instead.\n",
      "  datos_etiquetados = datos_etiquetados.append(labeled_obs, ignore_index=True)\n",
      "/tmp/ipykernel_4069/478762673.py:52: FutureWarning: The frame.append method is deprecated and will be removed from pandas in a future version. Use pandas.concat instead.\n",
      "  datos_etiquetados = datos_etiquetados.append(labeled_obs, ignore_index=True)\n",
      "/tmp/ipykernel_4069/478762673.py:52: FutureWarning: The frame.append method is deprecated and will be removed from pandas in a future version. Use pandas.concat instead.\n",
      "  datos_etiquetados = datos_etiquetados.append(labeled_obs, ignore_index=True)\n",
      "/tmp/ipykernel_4069/478762673.py:52: FutureWarning: The frame.append method is deprecated and will be removed from pandas in a future version. Use pandas.concat instead.\n",
      "  datos_etiquetados = datos_etiquetados.append(labeled_obs, ignore_index=True)\n",
      "/tmp/ipykernel_4069/478762673.py:52: FutureWarning: The frame.append method is deprecated and will be removed from pandas in a future version. Use pandas.concat instead.\n",
      "  datos_etiquetados = datos_etiquetados.append(labeled_obs, ignore_index=True)\n",
      "/tmp/ipykernel_4069/478762673.py:52: FutureWarning: The frame.append method is deprecated and will be removed from pandas in a future version. Use pandas.concat instead.\n",
      "  datos_etiquetados = datos_etiquetados.append(labeled_obs, ignore_index=True)\n",
      "/tmp/ipykernel_4069/478762673.py:52: FutureWarning: The frame.append method is deprecated and will be removed from pandas in a future version. Use pandas.concat instead.\n",
      "  datos_etiquetados = datos_etiquetados.append(labeled_obs, ignore_index=True)\n",
      "/tmp/ipykernel_4069/478762673.py:52: FutureWarning: The frame.append method is deprecated and will be removed from pandas in a future version. Use pandas.concat instead.\n",
      "  datos_etiquetados = datos_etiquetados.append(labeled_obs, ignore_index=True)\n",
      "/tmp/ipykernel_4069/478762673.py:52: FutureWarning: The frame.append method is deprecated and will be removed from pandas in a future version. Use pandas.concat instead.\n",
      "  datos_etiquetados = datos_etiquetados.append(labeled_obs, ignore_index=True)\n",
      "/tmp/ipykernel_4069/478762673.py:52: FutureWarning: The frame.append method is deprecated and will be removed from pandas in a future version. Use pandas.concat instead.\n",
      "  datos_etiquetados = datos_etiquetados.append(labeled_obs, ignore_index=True)\n",
      "/tmp/ipykernel_4069/478762673.py:52: FutureWarning: The frame.append method is deprecated and will be removed from pandas in a future version. Use pandas.concat instead.\n",
      "  datos_etiquetados = datos_etiquetados.append(labeled_obs, ignore_index=True)\n",
      "/tmp/ipykernel_4069/478762673.py:52: FutureWarning: The frame.append method is deprecated and will be removed from pandas in a future version. Use pandas.concat instead.\n",
      "  datos_etiquetados = datos_etiquetados.append(labeled_obs, ignore_index=True)\n",
      "/tmp/ipykernel_4069/478762673.py:52: FutureWarning: The frame.append method is deprecated and will be removed from pandas in a future version. Use pandas.concat instead.\n",
      "  datos_etiquetados = datos_etiquetados.append(labeled_obs, ignore_index=True)\n",
      "/tmp/ipykernel_4069/478762673.py:52: FutureWarning: The frame.append method is deprecated and will be removed from pandas in a future version. Use pandas.concat instead.\n",
      "  datos_etiquetados = datos_etiquetados.append(labeled_obs, ignore_index=True)\n",
      "/tmp/ipykernel_4069/478762673.py:52: FutureWarning: The frame.append method is deprecated and will be removed from pandas in a future version. Use pandas.concat instead.\n",
      "  datos_etiquetados = datos_etiquetados.append(labeled_obs, ignore_index=True)\n",
      "/tmp/ipykernel_4069/478762673.py:52: FutureWarning: The frame.append method is deprecated and will be removed from pandas in a future version. Use pandas.concat instead.\n",
      "  datos_etiquetados = datos_etiquetados.append(labeled_obs, ignore_index=True)\n",
      "/tmp/ipykernel_4069/478762673.py:52: FutureWarning: The frame.append method is deprecated and will be removed from pandas in a future version. Use pandas.concat instead.\n",
      "  datos_etiquetados = datos_etiquetados.append(labeled_obs, ignore_index=True)\n",
      "/tmp/ipykernel_4069/478762673.py:52: FutureWarning: The frame.append method is deprecated and will be removed from pandas in a future version. Use pandas.concat instead.\n",
      "  datos_etiquetados = datos_etiquetados.append(labeled_obs, ignore_index=True)\n",
      "/tmp/ipykernel_4069/478762673.py:52: FutureWarning: The frame.append method is deprecated and will be removed from pandas in a future version. Use pandas.concat instead.\n",
      "  datos_etiquetados = datos_etiquetados.append(labeled_obs, ignore_index=True)\n",
      "/tmp/ipykernel_4069/478762673.py:52: FutureWarning: The frame.append method is deprecated and will be removed from pandas in a future version. Use pandas.concat instead.\n",
      "  datos_etiquetados = datos_etiquetados.append(labeled_obs, ignore_index=True)\n",
      "/tmp/ipykernel_4069/478762673.py:52: FutureWarning: The frame.append method is deprecated and will be removed from pandas in a future version. Use pandas.concat instead.\n",
      "  datos_etiquetados = datos_etiquetados.append(labeled_obs, ignore_index=True)\n",
      "/tmp/ipykernel_4069/478762673.py:52: FutureWarning: The frame.append method is deprecated and will be removed from pandas in a future version. Use pandas.concat instead.\n",
      "  datos_etiquetados = datos_etiquetados.append(labeled_obs, ignore_index=True)\n",
      "/tmp/ipykernel_4069/478762673.py:52: FutureWarning: The frame.append method is deprecated and will be removed from pandas in a future version. Use pandas.concat instead.\n",
      "  datos_etiquetados = datos_etiquetados.append(labeled_obs, ignore_index=True)\n",
      "/tmp/ipykernel_4069/478762673.py:52: FutureWarning: The frame.append method is deprecated and will be removed from pandas in a future version. Use pandas.concat instead.\n",
      "  datos_etiquetados = datos_etiquetados.append(labeled_obs, ignore_index=True)\n",
      "/tmp/ipykernel_4069/478762673.py:52: FutureWarning: The frame.append method is deprecated and will be removed from pandas in a future version. Use pandas.concat instead.\n",
      "  datos_etiquetados = datos_etiquetados.append(labeled_obs, ignore_index=True)\n",
      "/tmp/ipykernel_4069/478762673.py:52: FutureWarning: The frame.append method is deprecated and will be removed from pandas in a future version. Use pandas.concat instead.\n",
      "  datos_etiquetados = datos_etiquetados.append(labeled_obs, ignore_index=True)\n",
      "/tmp/ipykernel_4069/478762673.py:52: FutureWarning: The frame.append method is deprecated and will be removed from pandas in a future version. Use pandas.concat instead.\n",
      "  datos_etiquetados = datos_etiquetados.append(labeled_obs, ignore_index=True)\n",
      "/tmp/ipykernel_4069/478762673.py:52: FutureWarning: The frame.append method is deprecated and will be removed from pandas in a future version. Use pandas.concat instead.\n",
      "  datos_etiquetados = datos_etiquetados.append(labeled_obs, ignore_index=True)\n",
      "/tmp/ipykernel_4069/478762673.py:52: FutureWarning: The frame.append method is deprecated and will be removed from pandas in a future version. Use pandas.concat instead.\n",
      "  datos_etiquetados = datos_etiquetados.append(labeled_obs, ignore_index=True)\n",
      "/tmp/ipykernel_4069/478762673.py:52: FutureWarning: The frame.append method is deprecated and will be removed from pandas in a future version. Use pandas.concat instead.\n",
      "  datos_etiquetados = datos_etiquetados.append(labeled_obs, ignore_index=True)\n",
      "/tmp/ipykernel_4069/478762673.py:52: FutureWarning: The frame.append method is deprecated and will be removed from pandas in a future version. Use pandas.concat instead.\n",
      "  datos_etiquetados = datos_etiquetados.append(labeled_obs, ignore_index=True)\n",
      "/tmp/ipykernel_4069/478762673.py:52: FutureWarning: The frame.append method is deprecated and will be removed from pandas in a future version. Use pandas.concat instead.\n",
      "  datos_etiquetados = datos_etiquetados.append(labeled_obs, ignore_index=True)\n",
      "/tmp/ipykernel_4069/478762673.py:52: FutureWarning: The frame.append method is deprecated and will be removed from pandas in a future version. Use pandas.concat instead.\n",
      "  datos_etiquetados = datos_etiquetados.append(labeled_obs, ignore_index=True)\n"
     ]
    }
   ],
   "source": [
    "n_min = 4\n",
    "n_max = 1\n",
    "\n",
    "for data in class_0.iterrows():\n",
    "    # fig, (ax1, ax2) = plt.subplots(1, 2, figsize=(16, 4), sharey=True)\n",
    "\n",
    "    windata = ibex.loc[data[1].date:].head(window)\n",
    "\n",
    "    is_min_before_max, dias_entre_minimos, distancia_precio_minimos, retorno, distancia_primer_dia_minimo_local, n_local_max, diferencia_precio = etiquetado_datos(\n",
    "        windata.copy())\n",
    "\n",
    "    lows = windata.iloc[argrelextrema(windata.low.values, np.less_equal, order=n_min)[0]][\"low\"]\n",
    "    lmax = windata.iloc[argrelextrema(windata.low.values, np.greater_equal, order=n_max)[0]][\"low\"]\n",
    "\n",
    "    local_min = lows.to_frame().sort_values(by=\"low\")[:2]\n",
    "    local_max = lmax.to_frame().sort_values(by=\"low\", ascending=False)[:2]\n",
    "    local_max = lmax.to_frame()\n",
    "\n",
    "    # candlestick2_ohlc(ax1, windata.open, windata.high,\n",
    "    #\n",
    "    #                   windata.low, windata.close,\n",
    "    #                   colorup='g', colordown='r', width=0.66, alpha=0.8)\n",
    "    #\n",
    "    # ax2 = plt.scatter(local_min.index, local_min.low, c='r')\n",
    "    # ax2 = plt.scatter(local_max.index, local_max.low, c='g')\n",
    "    # ax2 = plt.plot(windata[\"low\"].index, windata[\"low\"].values)\n",
    "\n",
    "    #print(\"##################################################################################################\")\n",
    "    #print(data[1].date)\n",
    "    #print(\"--------------\")\n",
    "    #print(f\"Ocurre el minimo antes que el máximo: {is_min_before_max}\")\n",
    "    #print(f\"Distancia entre los dos minimos en días: {dias_entre_minimos}\")\n",
    "    #print(f\"Distancia entre los dos minimos en precio: {distancia_precio_minimos}\")\n",
    "    #print(f\"Retorno de la ventana: {retorno}\")\n",
    "    #print(f\"Distancia de la primera vela al primer minimo: {distancia_primer_dia_minimo_local}\")\n",
    "    #print(f\"Numero de maximos locales entre dos minimos: {n_local_max}\")\n",
    "    #print(f\"Diferencia al punto de ruptura: {diferencia_precio}\")\n",
    "    #print(\"##################################################################################################\")\n",
    "    #plt.show()\n",
    "\n",
    "    labeled_obs = {\n",
    "        \"is_min_before_max\": is_min_before_max,\n",
    "        \"dias_entre_minimos\": dias_entre_minimos,\n",
    "        \"distancia_precio_minimos\": distancia_precio_minimos,\n",
    "        \"retorno\": retorno,\n",
    "        \"distancia_primer_dia_minimo_local\": distancia_primer_dia_minimo_local,\n",
    "        \"n_local_max\": n_local_max,\n",
    "        \"diferencia_precio\": diferencia_precio,\n",
    "        \"class\": 0\n",
    "    }\n",
    "\n",
    "    datos_etiquetados = datos_etiquetados.append(labeled_obs, ignore_index=True)"
   ],
   "metadata": {
    "collapsed": false,
    "pycharm": {
     "name": "#%%\n"
    }
   }
  },
  {
   "cell_type": "code",
   "execution_count": 10,
   "outputs": [
    {
     "name": "stderr",
     "output_type": "stream",
     "text": [
      "/tmp/ipykernel_4069/1333272169.py:52: FutureWarning: The frame.append method is deprecated and will be removed from pandas in a future version. Use pandas.concat instead.\n",
      "  datos_etiquetados = datos_etiquetados.append(labeled_obs, ignore_index=True)\n",
      "/tmp/ipykernel_4069/1333272169.py:52: FutureWarning: The frame.append method is deprecated and will be removed from pandas in a future version. Use pandas.concat instead.\n",
      "  datos_etiquetados = datos_etiquetados.append(labeled_obs, ignore_index=True)\n",
      "/tmp/ipykernel_4069/1333272169.py:52: FutureWarning: The frame.append method is deprecated and will be removed from pandas in a future version. Use pandas.concat instead.\n",
      "  datos_etiquetados = datos_etiquetados.append(labeled_obs, ignore_index=True)\n",
      "/tmp/ipykernel_4069/1333272169.py:52: FutureWarning: The frame.append method is deprecated and will be removed from pandas in a future version. Use pandas.concat instead.\n",
      "  datos_etiquetados = datos_etiquetados.append(labeled_obs, ignore_index=True)\n",
      "/tmp/ipykernel_4069/1333272169.py:52: FutureWarning: The frame.append method is deprecated and will be removed from pandas in a future version. Use pandas.concat instead.\n",
      "  datos_etiquetados = datos_etiquetados.append(labeled_obs, ignore_index=True)\n",
      "/tmp/ipykernel_4069/1333272169.py:52: FutureWarning: The frame.append method is deprecated and will be removed from pandas in a future version. Use pandas.concat instead.\n",
      "  datos_etiquetados = datos_etiquetados.append(labeled_obs, ignore_index=True)\n",
      "/tmp/ipykernel_4069/1333272169.py:52: FutureWarning: The frame.append method is deprecated and will be removed from pandas in a future version. Use pandas.concat instead.\n",
      "  datos_etiquetados = datos_etiquetados.append(labeled_obs, ignore_index=True)\n",
      "/tmp/ipykernel_4069/1333272169.py:52: FutureWarning: The frame.append method is deprecated and will be removed from pandas in a future version. Use pandas.concat instead.\n",
      "  datos_etiquetados = datos_etiquetados.append(labeled_obs, ignore_index=True)\n",
      "/tmp/ipykernel_4069/1333272169.py:52: FutureWarning: The frame.append method is deprecated and will be removed from pandas in a future version. Use pandas.concat instead.\n",
      "  datos_etiquetados = datos_etiquetados.append(labeled_obs, ignore_index=True)\n",
      "/tmp/ipykernel_4069/1333272169.py:52: FutureWarning: The frame.append method is deprecated and will be removed from pandas in a future version. Use pandas.concat instead.\n",
      "  datos_etiquetados = datos_etiquetados.append(labeled_obs, ignore_index=True)\n",
      "/tmp/ipykernel_4069/1333272169.py:52: FutureWarning: The frame.append method is deprecated and will be removed from pandas in a future version. Use pandas.concat instead.\n",
      "  datos_etiquetados = datos_etiquetados.append(labeled_obs, ignore_index=True)\n",
      "/tmp/ipykernel_4069/1333272169.py:52: FutureWarning: The frame.append method is deprecated and will be removed from pandas in a future version. Use pandas.concat instead.\n",
      "  datos_etiquetados = datos_etiquetados.append(labeled_obs, ignore_index=True)\n",
      "/tmp/ipykernel_4069/1333272169.py:52: FutureWarning: The frame.append method is deprecated and will be removed from pandas in a future version. Use pandas.concat instead.\n",
      "  datos_etiquetados = datos_etiquetados.append(labeled_obs, ignore_index=True)\n",
      "/tmp/ipykernel_4069/1333272169.py:52: FutureWarning: The frame.append method is deprecated and will be removed from pandas in a future version. Use pandas.concat instead.\n",
      "  datos_etiquetados = datos_etiquetados.append(labeled_obs, ignore_index=True)\n",
      "/tmp/ipykernel_4069/1333272169.py:52: FutureWarning: The frame.append method is deprecated and will be removed from pandas in a future version. Use pandas.concat instead.\n",
      "  datos_etiquetados = datos_etiquetados.append(labeled_obs, ignore_index=True)\n",
      "/tmp/ipykernel_4069/1333272169.py:52: FutureWarning: The frame.append method is deprecated and will be removed from pandas in a future version. Use pandas.concat instead.\n",
      "  datos_etiquetados = datos_etiquetados.append(labeled_obs, ignore_index=True)\n",
      "/tmp/ipykernel_4069/1333272169.py:52: FutureWarning: The frame.append method is deprecated and will be removed from pandas in a future version. Use pandas.concat instead.\n",
      "  datos_etiquetados = datos_etiquetados.append(labeled_obs, ignore_index=True)\n",
      "/tmp/ipykernel_4069/1333272169.py:52: FutureWarning: The frame.append method is deprecated and will be removed from pandas in a future version. Use pandas.concat instead.\n",
      "  datos_etiquetados = datos_etiquetados.append(labeled_obs, ignore_index=True)\n",
      "/tmp/ipykernel_4069/1333272169.py:52: FutureWarning: The frame.append method is deprecated and will be removed from pandas in a future version. Use pandas.concat instead.\n",
      "  datos_etiquetados = datos_etiquetados.append(labeled_obs, ignore_index=True)\n",
      "/tmp/ipykernel_4069/1333272169.py:52: FutureWarning: The frame.append method is deprecated and will be removed from pandas in a future version. Use pandas.concat instead.\n",
      "  datos_etiquetados = datos_etiquetados.append(labeled_obs, ignore_index=True)\n",
      "/tmp/ipykernel_4069/1333272169.py:52: FutureWarning: The frame.append method is deprecated and will be removed from pandas in a future version. Use pandas.concat instead.\n",
      "  datos_etiquetados = datos_etiquetados.append(labeled_obs, ignore_index=True)\n",
      "/tmp/ipykernel_4069/1333272169.py:52: FutureWarning: The frame.append method is deprecated and will be removed from pandas in a future version. Use pandas.concat instead.\n",
      "  datos_etiquetados = datos_etiquetados.append(labeled_obs, ignore_index=True)\n",
      "/tmp/ipykernel_4069/1333272169.py:52: FutureWarning: The frame.append method is deprecated and will be removed from pandas in a future version. Use pandas.concat instead.\n",
      "  datos_etiquetados = datos_etiquetados.append(labeled_obs, ignore_index=True)\n",
      "/tmp/ipykernel_4069/1333272169.py:52: FutureWarning: The frame.append method is deprecated and will be removed from pandas in a future version. Use pandas.concat instead.\n",
      "  datos_etiquetados = datos_etiquetados.append(labeled_obs, ignore_index=True)\n",
      "/tmp/ipykernel_4069/1333272169.py:52: FutureWarning: The frame.append method is deprecated and will be removed from pandas in a future version. Use pandas.concat instead.\n",
      "  datos_etiquetados = datos_etiquetados.append(labeled_obs, ignore_index=True)\n",
      "/tmp/ipykernel_4069/1333272169.py:52: FutureWarning: The frame.append method is deprecated and will be removed from pandas in a future version. Use pandas.concat instead.\n",
      "  datos_etiquetados = datos_etiquetados.append(labeled_obs, ignore_index=True)\n",
      "/tmp/ipykernel_4069/1333272169.py:52: FutureWarning: The frame.append method is deprecated and will be removed from pandas in a future version. Use pandas.concat instead.\n",
      "  datos_etiquetados = datos_etiquetados.append(labeled_obs, ignore_index=True)\n",
      "/tmp/ipykernel_4069/1333272169.py:52: FutureWarning: The frame.append method is deprecated and will be removed from pandas in a future version. Use pandas.concat instead.\n",
      "  datos_etiquetados = datos_etiquetados.append(labeled_obs, ignore_index=True)\n",
      "/tmp/ipykernel_4069/1333272169.py:52: FutureWarning: The frame.append method is deprecated and will be removed from pandas in a future version. Use pandas.concat instead.\n",
      "  datos_etiquetados = datos_etiquetados.append(labeled_obs, ignore_index=True)\n",
      "/tmp/ipykernel_4069/1333272169.py:52: FutureWarning: The frame.append method is deprecated and will be removed from pandas in a future version. Use pandas.concat instead.\n",
      "  datos_etiquetados = datos_etiquetados.append(labeled_obs, ignore_index=True)\n",
      "/tmp/ipykernel_4069/1333272169.py:52: FutureWarning: The frame.append method is deprecated and will be removed from pandas in a future version. Use pandas.concat instead.\n",
      "  datos_etiquetados = datos_etiquetados.append(labeled_obs, ignore_index=True)\n",
      "/tmp/ipykernel_4069/1333272169.py:52: FutureWarning: The frame.append method is deprecated and will be removed from pandas in a future version. Use pandas.concat instead.\n",
      "  datos_etiquetados = datos_etiquetados.append(labeled_obs, ignore_index=True)\n",
      "/tmp/ipykernel_4069/1333272169.py:52: FutureWarning: The frame.append method is deprecated and will be removed from pandas in a future version. Use pandas.concat instead.\n",
      "  datos_etiquetados = datos_etiquetados.append(labeled_obs, ignore_index=True)\n",
      "/tmp/ipykernel_4069/1333272169.py:52: FutureWarning: The frame.append method is deprecated and will be removed from pandas in a future version. Use pandas.concat instead.\n",
      "  datos_etiquetados = datos_etiquetados.append(labeled_obs, ignore_index=True)\n",
      "/tmp/ipykernel_4069/1333272169.py:52: FutureWarning: The frame.append method is deprecated and will be removed from pandas in a future version. Use pandas.concat instead.\n",
      "  datos_etiquetados = datos_etiquetados.append(labeled_obs, ignore_index=True)\n",
      "/tmp/ipykernel_4069/1333272169.py:52: FutureWarning: The frame.append method is deprecated and will be removed from pandas in a future version. Use pandas.concat instead.\n",
      "  datos_etiquetados = datos_etiquetados.append(labeled_obs, ignore_index=True)\n",
      "/tmp/ipykernel_4069/1333272169.py:52: FutureWarning: The frame.append method is deprecated and will be removed from pandas in a future version. Use pandas.concat instead.\n",
      "  datos_etiquetados = datos_etiquetados.append(labeled_obs, ignore_index=True)\n",
      "/tmp/ipykernel_4069/1333272169.py:52: FutureWarning: The frame.append method is deprecated and will be removed from pandas in a future version. Use pandas.concat instead.\n",
      "  datos_etiquetados = datos_etiquetados.append(labeled_obs, ignore_index=True)\n",
      "/tmp/ipykernel_4069/1333272169.py:52: FutureWarning: The frame.append method is deprecated and will be removed from pandas in a future version. Use pandas.concat instead.\n",
      "  datos_etiquetados = datos_etiquetados.append(labeled_obs, ignore_index=True)\n",
      "/tmp/ipykernel_4069/1333272169.py:52: FutureWarning: The frame.append method is deprecated and will be removed from pandas in a future version. Use pandas.concat instead.\n",
      "  datos_etiquetados = datos_etiquetados.append(labeled_obs, ignore_index=True)\n",
      "/tmp/ipykernel_4069/1333272169.py:52: FutureWarning: The frame.append method is deprecated and will be removed from pandas in a future version. Use pandas.concat instead.\n",
      "  datos_etiquetados = datos_etiquetados.append(labeled_obs, ignore_index=True)\n",
      "/tmp/ipykernel_4069/1333272169.py:52: FutureWarning: The frame.append method is deprecated and will be removed from pandas in a future version. Use pandas.concat instead.\n",
      "  datos_etiquetados = datos_etiquetados.append(labeled_obs, ignore_index=True)\n",
      "/tmp/ipykernel_4069/1333272169.py:52: FutureWarning: The frame.append method is deprecated and will be removed from pandas in a future version. Use pandas.concat instead.\n",
      "  datos_etiquetados = datos_etiquetados.append(labeled_obs, ignore_index=True)\n",
      "/tmp/ipykernel_4069/1333272169.py:52: FutureWarning: The frame.append method is deprecated and will be removed from pandas in a future version. Use pandas.concat instead.\n",
      "  datos_etiquetados = datos_etiquetados.append(labeled_obs, ignore_index=True)\n",
      "/tmp/ipykernel_4069/1333272169.py:52: FutureWarning: The frame.append method is deprecated and will be removed from pandas in a future version. Use pandas.concat instead.\n",
      "  datos_etiquetados = datos_etiquetados.append(labeled_obs, ignore_index=True)\n",
      "/tmp/ipykernel_4069/1333272169.py:52: FutureWarning: The frame.append method is deprecated and will be removed from pandas in a future version. Use pandas.concat instead.\n",
      "  datos_etiquetados = datos_etiquetados.append(labeled_obs, ignore_index=True)\n",
      "/tmp/ipykernel_4069/1333272169.py:52: FutureWarning: The frame.append method is deprecated and will be removed from pandas in a future version. Use pandas.concat instead.\n",
      "  datos_etiquetados = datos_etiquetados.append(labeled_obs, ignore_index=True)\n",
      "/tmp/ipykernel_4069/1333272169.py:52: FutureWarning: The frame.append method is deprecated and will be removed from pandas in a future version. Use pandas.concat instead.\n",
      "  datos_etiquetados = datos_etiquetados.append(labeled_obs, ignore_index=True)\n",
      "/tmp/ipykernel_4069/1333272169.py:52: FutureWarning: The frame.append method is deprecated and will be removed from pandas in a future version. Use pandas.concat instead.\n",
      "  datos_etiquetados = datos_etiquetados.append(labeled_obs, ignore_index=True)\n",
      "/tmp/ipykernel_4069/1333272169.py:52: FutureWarning: The frame.append method is deprecated and will be removed from pandas in a future version. Use pandas.concat instead.\n",
      "  datos_etiquetados = datos_etiquetados.append(labeled_obs, ignore_index=True)\n",
      "/tmp/ipykernel_4069/1333272169.py:52: FutureWarning: The frame.append method is deprecated and will be removed from pandas in a future version. Use pandas.concat instead.\n",
      "  datos_etiquetados = datos_etiquetados.append(labeled_obs, ignore_index=True)\n",
      "/tmp/ipykernel_4069/1333272169.py:52: FutureWarning: The frame.append method is deprecated and will be removed from pandas in a future version. Use pandas.concat instead.\n",
      "  datos_etiquetados = datos_etiquetados.append(labeled_obs, ignore_index=True)\n",
      "/tmp/ipykernel_4069/1333272169.py:52: FutureWarning: The frame.append method is deprecated and will be removed from pandas in a future version. Use pandas.concat instead.\n",
      "  datos_etiquetados = datos_etiquetados.append(labeled_obs, ignore_index=True)\n",
      "/tmp/ipykernel_4069/1333272169.py:52: FutureWarning: The frame.append method is deprecated and will be removed from pandas in a future version. Use pandas.concat instead.\n",
      "  datos_etiquetados = datos_etiquetados.append(labeled_obs, ignore_index=True)\n",
      "/tmp/ipykernel_4069/1333272169.py:52: FutureWarning: The frame.append method is deprecated and will be removed from pandas in a future version. Use pandas.concat instead.\n",
      "  datos_etiquetados = datos_etiquetados.append(labeled_obs, ignore_index=True)\n",
      "/tmp/ipykernel_4069/1333272169.py:52: FutureWarning: The frame.append method is deprecated and will be removed from pandas in a future version. Use pandas.concat instead.\n",
      "  datos_etiquetados = datos_etiquetados.append(labeled_obs, ignore_index=True)\n",
      "/tmp/ipykernel_4069/1333272169.py:52: FutureWarning: The frame.append method is deprecated and will be removed from pandas in a future version. Use pandas.concat instead.\n",
      "  datos_etiquetados = datos_etiquetados.append(labeled_obs, ignore_index=True)\n",
      "/tmp/ipykernel_4069/1333272169.py:52: FutureWarning: The frame.append method is deprecated and will be removed from pandas in a future version. Use pandas.concat instead.\n",
      "  datos_etiquetados = datos_etiquetados.append(labeled_obs, ignore_index=True)\n",
      "/tmp/ipykernel_4069/1333272169.py:52: FutureWarning: The frame.append method is deprecated and will be removed from pandas in a future version. Use pandas.concat instead.\n",
      "  datos_etiquetados = datos_etiquetados.append(labeled_obs, ignore_index=True)\n",
      "/tmp/ipykernel_4069/1333272169.py:52: FutureWarning: The frame.append method is deprecated and will be removed from pandas in a future version. Use pandas.concat instead.\n",
      "  datos_etiquetados = datos_etiquetados.append(labeled_obs, ignore_index=True)\n",
      "/tmp/ipykernel_4069/1333272169.py:52: FutureWarning: The frame.append method is deprecated and will be removed from pandas in a future version. Use pandas.concat instead.\n",
      "  datos_etiquetados = datos_etiquetados.append(labeled_obs, ignore_index=True)\n",
      "/tmp/ipykernel_4069/1333272169.py:52: FutureWarning: The frame.append method is deprecated and will be removed from pandas in a future version. Use pandas.concat instead.\n",
      "  datos_etiquetados = datos_etiquetados.append(labeled_obs, ignore_index=True)\n",
      "/tmp/ipykernel_4069/1333272169.py:52: FutureWarning: The frame.append method is deprecated and will be removed from pandas in a future version. Use pandas.concat instead.\n",
      "  datos_etiquetados = datos_etiquetados.append(labeled_obs, ignore_index=True)\n",
      "/tmp/ipykernel_4069/1333272169.py:52: FutureWarning: The frame.append method is deprecated and will be removed from pandas in a future version. Use pandas.concat instead.\n",
      "  datos_etiquetados = datos_etiquetados.append(labeled_obs, ignore_index=True)\n",
      "/tmp/ipykernel_4069/1333272169.py:52: FutureWarning: The frame.append method is deprecated and will be removed from pandas in a future version. Use pandas.concat instead.\n",
      "  datos_etiquetados = datos_etiquetados.append(labeled_obs, ignore_index=True)\n",
      "/tmp/ipykernel_4069/1333272169.py:52: FutureWarning: The frame.append method is deprecated and will be removed from pandas in a future version. Use pandas.concat instead.\n",
      "  datos_etiquetados = datos_etiquetados.append(labeled_obs, ignore_index=True)\n",
      "/tmp/ipykernel_4069/1333272169.py:52: FutureWarning: The frame.append method is deprecated and will be removed from pandas in a future version. Use pandas.concat instead.\n",
      "  datos_etiquetados = datos_etiquetados.append(labeled_obs, ignore_index=True)\n",
      "/tmp/ipykernel_4069/1333272169.py:52: FutureWarning: The frame.append method is deprecated and will be removed from pandas in a future version. Use pandas.concat instead.\n",
      "  datos_etiquetados = datos_etiquetados.append(labeled_obs, ignore_index=True)\n",
      "/tmp/ipykernel_4069/1333272169.py:52: FutureWarning: The frame.append method is deprecated and will be removed from pandas in a future version. Use pandas.concat instead.\n",
      "  datos_etiquetados = datos_etiquetados.append(labeled_obs, ignore_index=True)\n",
      "/tmp/ipykernel_4069/1333272169.py:52: FutureWarning: The frame.append method is deprecated and will be removed from pandas in a future version. Use pandas.concat instead.\n",
      "  datos_etiquetados = datos_etiquetados.append(labeled_obs, ignore_index=True)\n",
      "/tmp/ipykernel_4069/1333272169.py:52: FutureWarning: The frame.append method is deprecated and will be removed from pandas in a future version. Use pandas.concat instead.\n",
      "  datos_etiquetados = datos_etiquetados.append(labeled_obs, ignore_index=True)\n",
      "/tmp/ipykernel_4069/1333272169.py:52: FutureWarning: The frame.append method is deprecated and will be removed from pandas in a future version. Use pandas.concat instead.\n",
      "  datos_etiquetados = datos_etiquetados.append(labeled_obs, ignore_index=True)\n",
      "/tmp/ipykernel_4069/1333272169.py:52: FutureWarning: The frame.append method is deprecated and will be removed from pandas in a future version. Use pandas.concat instead.\n",
      "  datos_etiquetados = datos_etiquetados.append(labeled_obs, ignore_index=True)\n",
      "/tmp/ipykernel_4069/1333272169.py:52: FutureWarning: The frame.append method is deprecated and will be removed from pandas in a future version. Use pandas.concat instead.\n",
      "  datos_etiquetados = datos_etiquetados.append(labeled_obs, ignore_index=True)\n",
      "/tmp/ipykernel_4069/1333272169.py:52: FutureWarning: The frame.append method is deprecated and will be removed from pandas in a future version. Use pandas.concat instead.\n",
      "  datos_etiquetados = datos_etiquetados.append(labeled_obs, ignore_index=True)\n",
      "/tmp/ipykernel_4069/1333272169.py:52: FutureWarning: The frame.append method is deprecated and will be removed from pandas in a future version. Use pandas.concat instead.\n",
      "  datos_etiquetados = datos_etiquetados.append(labeled_obs, ignore_index=True)\n",
      "/tmp/ipykernel_4069/1333272169.py:52: FutureWarning: The frame.append method is deprecated and will be removed from pandas in a future version. Use pandas.concat instead.\n",
      "  datos_etiquetados = datos_etiquetados.append(labeled_obs, ignore_index=True)\n",
      "/tmp/ipykernel_4069/1333272169.py:52: FutureWarning: The frame.append method is deprecated and will be removed from pandas in a future version. Use pandas.concat instead.\n",
      "  datos_etiquetados = datos_etiquetados.append(labeled_obs, ignore_index=True)\n",
      "/tmp/ipykernel_4069/1333272169.py:52: FutureWarning: The frame.append method is deprecated and will be removed from pandas in a future version. Use pandas.concat instead.\n",
      "  datos_etiquetados = datos_etiquetados.append(labeled_obs, ignore_index=True)\n",
      "/tmp/ipykernel_4069/1333272169.py:52: FutureWarning: The frame.append method is deprecated and will be removed from pandas in a future version. Use pandas.concat instead.\n",
      "  datos_etiquetados = datos_etiquetados.append(labeled_obs, ignore_index=True)\n",
      "/tmp/ipykernel_4069/1333272169.py:52: FutureWarning: The frame.append method is deprecated and will be removed from pandas in a future version. Use pandas.concat instead.\n",
      "  datos_etiquetados = datos_etiquetados.append(labeled_obs, ignore_index=True)\n",
      "/tmp/ipykernel_4069/1333272169.py:52: FutureWarning: The frame.append method is deprecated and will be removed from pandas in a future version. Use pandas.concat instead.\n",
      "  datos_etiquetados = datos_etiquetados.append(labeled_obs, ignore_index=True)\n",
      "/tmp/ipykernel_4069/1333272169.py:52: FutureWarning: The frame.append method is deprecated and will be removed from pandas in a future version. Use pandas.concat instead.\n",
      "  datos_etiquetados = datos_etiquetados.append(labeled_obs, ignore_index=True)\n"
     ]
    }
   ],
   "source": [
    "n_min = 4\n",
    "n_max = 1\n",
    "\n",
    "for data in class_1.iterrows():\n",
    "    # fig, (ax1, ax2) = plt.subplots(1, 2, figsize=(16, 4), sharey=True)\n",
    "\n",
    "    windata = ibex.loc[data[1].date:].head(window)\n",
    "\n",
    "    is_min_before_max, dias_entre_minimos, distancia_precio_minimos, retorno, distancia_primer_dia_minimo_local, n_local_max, diferencia_precio = etiquetado_datos(\n",
    "        windata.copy())\n",
    "\n",
    "    lows = windata.iloc[argrelextrema(windata.low.values, np.less_equal, order=n_min)[0]][\"low\"]\n",
    "    lmax = windata.iloc[argrelextrema(windata.low.values, np.greater_equal, order=n_max)[0]][\"low\"]\n",
    "\n",
    "    local_min = lows.to_frame().sort_values(by=\"low\")[:2]\n",
    "    local_max = lmax.to_frame().sort_values(by=\"low\", ascending=False)[:2]\n",
    "    local_max = lmax.to_frame()\n",
    "\n",
    "    # candlestick2_ohlc(ax1, windata.open, windata.high,\n",
    "    #\n",
    "    #                   windata.low, windata.close,\n",
    "    #                   colorup='g', colordown='r', width=0.66, alpha=0.8)\n",
    "    #\n",
    "    # ax2 = plt.scatter(local_min.index, local_min.low, c='r')\n",
    "    # ax2 = plt.scatter(local_max.index, local_max.low, c='g')\n",
    "    # ax2 = plt.plot(windata[\"low\"].index, windata[\"low\"].values)\n",
    "\n",
    "    #print(\"##################################################################################################\")\n",
    "    #print(data[1].date)\n",
    "    #print(\"--------------\")\n",
    "    #print(f\"Ocurre el minimo antes que el máximo: {is_min_before_max}\")\n",
    "    #print(f\"Distancia entre los dos minimos en días: {dias_entre_minimos}\")\n",
    "    #print(f\"Distancia entre los dos minimos en precio: {distancia_precio_minimos}\")\n",
    "    #print(f\"Retorno de la ventana: {retorno}\")\n",
    "    #print(f\"Distancia de la primera vela al primer minimo: {distancia_primer_dia_minimo_local}\")\n",
    "    #print(f\"Numero de maximos locales entre dos minimos: {n_local_max}\")\n",
    "    #print(f\"Diferencia al punto de ruptura: {diferencia_precio}\")\n",
    "    #print(\"##################################################################################################\")\n",
    "    #plt.show()\n",
    "\n",
    "    labeled_obs = {\n",
    "        \"is_min_before_max\": is_min_before_max,\n",
    "        \"dias_entre_minimos\": dias_entre_minimos,\n",
    "        \"distancia_precio_minimos\": distancia_precio_minimos,\n",
    "        \"retorno\": retorno,\n",
    "        \"distancia_primer_dia_minimo_local\": distancia_primer_dia_minimo_local,\n",
    "        \"n_local_max\": n_local_max,\n",
    "        \"diferencia_precio\": diferencia_precio,\n",
    "        \"class\": 1\n",
    "    }\n",
    "\n",
    "    datos_etiquetados = datos_etiquetados.append(labeled_obs, ignore_index=True)\n"
   ],
   "metadata": {
    "collapsed": false,
    "pycharm": {
     "name": "#%%\n"
    }
   }
  },
  {
   "cell_type": "code",
   "execution_count": 11,
   "outputs": [
    {
     "data": {
      "text/plain": "     is_min_before_max  dias_entre_minimos  distancia_precio_minimos  retorno  \\\n0                  0.0                14.0                     248.5  -0.1632   \n1                  1.0                41.0                     595.4   0.0524   \n2                  1.0                16.0                      42.4   0.0179   \n3                  0.0                17.0                      11.1  -0.0721   \n4                  1.0                28.0                     483.4   0.0618   \n..                 ...                 ...                       ...      ...   \n161                0.0                12.0                      27.5  -0.0197   \n162                1.0                20.0                      43.8   0.1266   \n163                1.0                15.0                      26.6   0.1484   \n164                1.0                16.0                      26.7   0.0342   \n165                1.0                 9.0                      52.5   0.0436   \n\n     distancia_primer_dia_minimo_local  n_local_max  diferencia_precio  class  \n0                                 26.0          3.0             -503.5    0.0  \n1                                 -1.0          7.0             -117.4    0.0  \n2                                  5.0          2.0               88.6    0.0  \n3                                 24.0          3.0             -203.3    0.0  \n4                                  6.0          4.0               59.2    0.0  \n..                                 ...          ...                ...    ...  \n161                               21.0          1.0              387.8    1.0  \n162                                4.0          3.0             1081.9    1.0  \n163                               -1.0          3.0              795.5    1.0  \n164                               -1.0          2.0              259.7    1.0  \n165                                5.0          1.0              907.4    1.0  \n\n[166 rows x 8 columns]",
      "text/html": "<div>\n<style scoped>\n    .dataframe tbody tr th:only-of-type {\n        vertical-align: middle;\n    }\n\n    .dataframe tbody tr th {\n        vertical-align: top;\n    }\n\n    .dataframe thead th {\n        text-align: right;\n    }\n</style>\n<table border=\"1\" class=\"dataframe\">\n  <thead>\n    <tr style=\"text-align: right;\">\n      <th></th>\n      <th>is_min_before_max</th>\n      <th>dias_entre_minimos</th>\n      <th>distancia_precio_minimos</th>\n      <th>retorno</th>\n      <th>distancia_primer_dia_minimo_local</th>\n      <th>n_local_max</th>\n      <th>diferencia_precio</th>\n      <th>class</th>\n    </tr>\n  </thead>\n  <tbody>\n    <tr>\n      <th>0</th>\n      <td>0.0</td>\n      <td>14.0</td>\n      <td>248.5</td>\n      <td>-0.1632</td>\n      <td>26.0</td>\n      <td>3.0</td>\n      <td>-503.5</td>\n      <td>0.0</td>\n    </tr>\n    <tr>\n      <th>1</th>\n      <td>1.0</td>\n      <td>41.0</td>\n      <td>595.4</td>\n      <td>0.0524</td>\n      <td>-1.0</td>\n      <td>7.0</td>\n      <td>-117.4</td>\n      <td>0.0</td>\n    </tr>\n    <tr>\n      <th>2</th>\n      <td>1.0</td>\n      <td>16.0</td>\n      <td>42.4</td>\n      <td>0.0179</td>\n      <td>5.0</td>\n      <td>2.0</td>\n      <td>88.6</td>\n      <td>0.0</td>\n    </tr>\n    <tr>\n      <th>3</th>\n      <td>0.0</td>\n      <td>17.0</td>\n      <td>11.1</td>\n      <td>-0.0721</td>\n      <td>24.0</td>\n      <td>3.0</td>\n      <td>-203.3</td>\n      <td>0.0</td>\n    </tr>\n    <tr>\n      <th>4</th>\n      <td>1.0</td>\n      <td>28.0</td>\n      <td>483.4</td>\n      <td>0.0618</td>\n      <td>6.0</td>\n      <td>4.0</td>\n      <td>59.2</td>\n      <td>0.0</td>\n    </tr>\n    <tr>\n      <th>...</th>\n      <td>...</td>\n      <td>...</td>\n      <td>...</td>\n      <td>...</td>\n      <td>...</td>\n      <td>...</td>\n      <td>...</td>\n      <td>...</td>\n    </tr>\n    <tr>\n      <th>161</th>\n      <td>0.0</td>\n      <td>12.0</td>\n      <td>27.5</td>\n      <td>-0.0197</td>\n      <td>21.0</td>\n      <td>1.0</td>\n      <td>387.8</td>\n      <td>1.0</td>\n    </tr>\n    <tr>\n      <th>162</th>\n      <td>1.0</td>\n      <td>20.0</td>\n      <td>43.8</td>\n      <td>0.1266</td>\n      <td>4.0</td>\n      <td>3.0</td>\n      <td>1081.9</td>\n      <td>1.0</td>\n    </tr>\n    <tr>\n      <th>163</th>\n      <td>1.0</td>\n      <td>15.0</td>\n      <td>26.6</td>\n      <td>0.1484</td>\n      <td>-1.0</td>\n      <td>3.0</td>\n      <td>795.5</td>\n      <td>1.0</td>\n    </tr>\n    <tr>\n      <th>164</th>\n      <td>1.0</td>\n      <td>16.0</td>\n      <td>26.7</td>\n      <td>0.0342</td>\n      <td>-1.0</td>\n      <td>2.0</td>\n      <td>259.7</td>\n      <td>1.0</td>\n    </tr>\n    <tr>\n      <th>165</th>\n      <td>1.0</td>\n      <td>9.0</td>\n      <td>52.5</td>\n      <td>0.0436</td>\n      <td>5.0</td>\n      <td>1.0</td>\n      <td>907.4</td>\n      <td>1.0</td>\n    </tr>\n  </tbody>\n</table>\n<p>166 rows × 8 columns</p>\n</div>"
     },
     "execution_count": 11,
     "metadata": {},
     "output_type": "execute_result"
    }
   ],
   "source": [
    "datos_etiquetados"
   ],
   "metadata": {
    "collapsed": false,
    "pycharm": {
     "name": "#%%\n"
    }
   }
  },
  {
   "cell_type": "code",
   "execution_count": 13,
   "outputs": [
    {
     "data": {
      "text/plain": "<Figure size 432x288 with 1 Axes>",
      "image/png": "[encoded data removed]"
     },
     "metadata": {
      "needs_background": "light"
     },
     "output_type": "display_data"
    }
   ],
   "source": [
    "import matplotlib.pyplot as plt\n",
    "\n",
    "plt.scatter(datos_etiquetados[datos_etiquetados[\"class\"] == 0][\"class\"],datos_etiquetados[datos_etiquetados[\"class\"] == 0][\"dias_entre_minimos\"] , c='r')\n",
    "plt.scatter(datos_etiquetados[datos_etiquetados[\"class\"] == 1][\"class\"],datos_etiquetados[datos_etiquetados[\"class\"] == 1][\"dias_entre_minimos\"], c='g')\n",
    "plt.show()"
   ],
   "metadata": {
    "collapsed": false,
    "pycharm": {
     "name": "#%%\n"
    }
   }
  },
  {
   "cell_type": "code",
   "execution_count": 14,
   "outputs": [
    {
     "data": {
      "text/plain": "<Figure size 432x288 with 1 Axes>",
      "image/png": "[encoded data removed]"
     },
     "metadata": {
      "needs_background": "light"
     },
     "output_type": "display_data"
    }
   ],
   "source": [
    "import matplotlib.pyplot as plt\n",
    "plt.scatter(datos_etiquetados[datos_etiquetados[\"class\"] == 0][\"class\"],datos_etiquetados[datos_etiquetados[\"class\"] == 0][\"distancia_precio_minimos\"] , c='r')\n",
    "plt.scatter(datos_etiquetados[datos_etiquetados[\"class\"] == 1][\"class\"],datos_etiquetados[datos_etiquetados[\"class\"] == 1][\"distancia_precio_minimos\"], c='g')\n",
    "plt.show()"
   ],
   "metadata": {
    "collapsed": false,
    "pycharm": {
     "name": "#%%\n"
    }
   }
  },
  {
   "cell_type": "code",
   "execution_count": 15,
   "outputs": [
    {
     "data": {
      "text/plain": "<Figure size 432x288 with 1 Axes>",
      "image/png": "[encoded data removed]"
     },
     "metadata": {
      "needs_background": "light"
     },
     "output_type": "display_data"
    }
   ],
   "source": [
    "plt.show()\n",
    "import matplotlib.pyplot as plt\n",
    "\n",
    "plt.scatter(datos_etiquetados[datos_etiquetados[\"class\"] == 0][\"class\"],\n",
    "            datos_etiquetados[datos_etiquetados[\"class\"] == 0][\"retorno\"], c='r')\n",
    "plt.scatter(datos_etiquetados[datos_etiquetados[\"class\"] == 1][\"class\"],\n",
    "            datos_etiquetados[datos_etiquetados[\"class\"] == 1][\"retorno\"], c='g')\n",
    "plt.show()"
   ],
   "metadata": {
    "collapsed": false,
    "pycharm": {
     "name": "#%%\n"
    }
   }
  },
  {
   "cell_type": "code",
   "execution_count": 16,
   "outputs": [
    {
     "data": {
      "text/plain": "<Figure size 432x288 with 1 Axes>",
      "image/png": "[encoded data removed]"
     },
     "metadata": {
      "needs_background": "light"
     },
     "output_type": "display_data"
    }
   ],
   "source": [
    "plt.show()\n",
    "import matplotlib.pyplot as plt\n",
    "\n",
    "plt.scatter(datos_etiquetados[datos_etiquetados[\"class\"] == 0][\"class\"],\n",
    "            datos_etiquetados[datos_etiquetados[\"class\"] == 0][\"n_local_max\"], c='r')\n",
    "plt.scatter(datos_etiquetados[datos_etiquetados[\"class\"] == 1][\"class\"],\n",
    "            datos_etiquetados[datos_etiquetados[\"class\"] == 1][\"n_local_max\"], c='g')\n",
    "plt.show()"
   ],
   "metadata": {
    "collapsed": false,
    "pycharm": {
     "name": "#%%\n"
    }
   }
  },
  {
   "cell_type": "code",
   "execution_count": 17,
   "outputs": [
    {
     "data": {
      "text/plain": "<Figure size 432x288 with 1 Axes>",
      "image/png": "[encoded data removed]"
     },
     "metadata": {
      "needs_background": "light"
     },
     "output_type": "display_data"
    }
   ],
   "source": [
    "plt.show()\n",
    "import matplotlib.pyplot as plt\n",
    "\n",
    "plt.scatter(datos_etiquetados[datos_etiquetados[\"class\"] == 0][\"class\"],\n",
    "            datos_etiquetados[datos_etiquetados[\"class\"] == 0][\"distancia_primer_dia_minimo_local\"], c='r')\n",
    "plt.scatter(datos_etiquetados[datos_etiquetados[\"class\"] == 1][\"class\"],\n",
    "            datos_etiquetados[datos_etiquetados[\"class\"] == 1][\"distancia_primer_dia_minimo_local\"], c='g')\n",
    "plt.show()"
   ],
   "metadata": {
    "collapsed": false,
    "pycharm": {
     "name": "#%%\n"
    }
   }
  },
  {
   "cell_type": "code",
   "execution_count": 19,
   "outputs": [
    {
     "data": {
      "text/plain": "<Figure size 432x288 with 1 Axes>",
      "image/png": "[encoded data removed]"
     },
     "metadata": {
      "needs_background": "light"
     },
     "output_type": "display_data"
    }
   ],
   "source": [
    "plt.show()\n",
    "plt.show()\n",
    "import matplotlib.pyplot as plt\n",
    "\n",
    "plt.scatter(datos_etiquetados[datos_etiquetados[\"class\"] == 0][\"class\"],\n",
    "            datos_etiquetados[datos_etiquetados[\"class\"] == 0][\"diferencia_precio\"], c='r')\n",
    "plt.scatter(datos_etiquetados[datos_etiquetados[\"class\"] == 1][\"class\"],\n",
    "            datos_etiquetados[datos_etiquetados[\"class\"] == 1][\"diferencia_precio\"], c='g')\n",
    "plt.show()"
   ],
   "metadata": {
    "collapsed": false,
    "pycharm": {
     "name": "#%%\n"
    }
   }
  },
  {
   "cell_type": "code",
   "execution_count": 20,
   "outputs": [
    {
     "data": {
      "text/plain": " 453.3     3\n-503.5     1\n 446.0     1\n-323.4     1\n-1692.6    1\n          ..\n 107.4     1\n 347.5     1\n-411.4     1\n-108.6     1\n 227.1     1\nName: diferencia_precio, Length: 81, dtype: int64"
     },
     "execution_count": 20,
     "metadata": {},
     "output_type": "execute_result"
    }
   ],
   "source": [
    "datos_etiquetados[datos_etiquetados[\"class\"] == 0][\"diferencia_precio\"].value_counts()"
   ],
   "metadata": {
    "collapsed": false,
    "pycharm": {
     "name": "#%%\n"
    }
   }
  },
  {
   "cell_type": "raw",
   "source": [
    "Separamos en caracteristicas y clases"
   ],
   "metadata": {
    "collapsed": false,
    "pycharm": {
     "name": "#%% raw\n"
    }
   }
  },
  {
   "cell_type": "code",
   "execution_count": 22,
   "outputs": [
    {
     "data": {
      "text/plain": "     is_min_before_max  dias_entre_minimos  distancia_precio_minimos  retorno  \\\n0                  0.0                14.0                     248.5  -0.1632   \n1                  1.0                41.0                     595.4   0.0524   \n2                  1.0                16.0                      42.4   0.0179   \n3                  0.0                17.0                      11.1  -0.0721   \n4                  1.0                28.0                     483.4   0.0618   \n..                 ...                 ...                       ...      ...   \n161                0.0                12.0                      27.5  -0.0197   \n162                1.0                20.0                      43.8   0.1266   \n163                1.0                15.0                      26.6   0.1484   \n164                1.0                16.0                      26.7   0.0342   \n165                1.0                 9.0                      52.5   0.0436   \n\n     distancia_primer_dia_minimo_local  n_local_max  diferencia_precio  \n0                                 26.0          3.0             -503.5  \n1                                 -1.0          7.0             -117.4  \n2                                  5.0          2.0               88.6  \n3                                 24.0          3.0             -203.3  \n4                                  6.0          4.0               59.2  \n..                                 ...          ...                ...  \n161                               21.0          1.0              387.8  \n162                                4.0          3.0             1081.9  \n163                               -1.0          3.0              795.5  \n164                               -1.0          2.0              259.7  \n165                                5.0          1.0              907.4  \n\n[166 rows x 7 columns]",
      "text/html": "<div>\n<style scoped>\n    .dataframe tbody tr th:only-of-type {\n        vertical-align: middle;\n    }\n\n    .dataframe tbody tr th {\n        vertical-align: top;\n    }\n\n    .dataframe thead th {\n        text-align: right;\n    }\n</style>\n<table border=\"1\" class=\"dataframe\">\n  <thead>\n    <tr style=\"text-align: right;\">\n      <th></th>\n      <th>is_min_before_max</th>\n      <th>dias_entre_minimos</th>\n      <th>distancia_precio_minimos</th>\n      <th>retorno</th>\n      <th>distancia_primer_dia_minimo_local</th>\n      <th>n_local_max</th>\n      <th>diferencia_precio</th>\n    </tr>\n  </thead>\n  <tbody>\n    <tr>\n      <th>0</th>\n      <td>0.0</td>\n      <td>14.0</td>\n      <td>248.5</td>\n      <td>-0.1632</td>\n      <td>26.0</td>\n      <td>3.0</td>\n      <td>-503.5</td>\n    </tr>\n    <tr>\n      <th>1</th>\n      <td>1.0</td>\n      <td>41.0</td>\n      <td>595.4</td>\n      <td>0.0524</td>\n      <td>-1.0</td>\n      <td>7.0</td>\n      <td>-117.4</td>\n    </tr>\n    <tr>\n      <th>2</th>\n      <td>1.0</td>\n      <td>16.0</td>\n      <td>42.4</td>\n      <td>0.0179</td>\n      <td>5.0</td>\n      <td>2.0</td>\n      <td>88.6</td>\n    </tr>\n    <tr>\n      <th>3</th>\n      <td>0.0</td>\n      <td>17.0</td>\n      <td>11.1</td>\n      <td>-0.0721</td>\n      <td>24.0</td>\n      <td>3.0</td>\n      <td>-203.3</td>\n    </tr>\n    <tr>\n      <th>4</th>\n      <td>1.0</td>\n      <td>28.0</td>\n      <td>483.4</td>\n      <td>0.0618</td>\n      <td>6.0</td>\n      <td>4.0</td>\n      <td>59.2</td>\n    </tr>\n    <tr>\n      <th>...</th>\n      <td>...</td>\n      <td>...</td>\n      <td>...</td>\n      <td>...</td>\n      <td>...</td>\n      <td>...</td>\n      <td>...</td>\n    </tr>\n    <tr>\n      <th>161</th>\n      <td>0.0</td>\n      <td>12.0</td>\n      <td>27.5</td>\n      <td>-0.0197</td>\n      <td>21.0</td>\n      <td>1.0</td>\n      <td>387.8</td>\n    </tr>\n    <tr>\n      <th>162</th>\n      <td>1.0</td>\n      <td>20.0</td>\n      <td>43.8</td>\n      <td>0.1266</td>\n      <td>4.0</td>\n      <td>3.0</td>\n      <td>1081.9</td>\n    </tr>\n    <tr>\n      <th>163</th>\n      <td>1.0</td>\n      <td>15.0</td>\n      <td>26.6</td>\n      <td>0.1484</td>\n      <td>-1.0</td>\n      <td>3.0</td>\n      <td>795.5</td>\n    </tr>\n    <tr>\n      <th>164</th>\n      <td>1.0</td>\n      <td>16.0</td>\n      <td>26.7</td>\n      <td>0.0342</td>\n      <td>-1.0</td>\n      <td>2.0</td>\n      <td>259.7</td>\n    </tr>\n    <tr>\n      <th>165</th>\n      <td>1.0</td>\n      <td>9.0</td>\n      <td>52.5</td>\n      <td>0.0436</td>\n      <td>5.0</td>\n      <td>1.0</td>\n      <td>907.4</td>\n    </tr>\n  </tbody>\n</table>\n<p>166 rows × 7 columns</p>\n</div>"
     },
     "execution_count": 22,
     "metadata": {},
     "output_type": "execute_result"
    }
   ],
   "source": [
    "features = datos_etiquetados.loc[:,:\"diferencia_precio\"]\n",
    "target = datos_etiquetados[\"class\"]\n",
    "features"
   ],
   "metadata": {
    "collapsed": false,
    "pycharm": {
     "name": "#%%\n"
    }
   }
  },
  {
   "cell_type": "code",
   "execution_count": 23,
   "outputs": [],
   "source": [
    "from sklearn.preprocessing import MinMaxScaler\n",
    "from sklearn.model_selection import train_test_split\n",
    "from sklearn.tree import DecisionTreeClassifier\n",
    "from sklearn.neighbors import KNeighborsClassifier\n",
    "from sklearn.metrics import accuracy_score\n",
    "\n",
    "ft_norm_arr = MinMaxScaler().fit_transform(features)\n",
    "ft_norm = pd.DataFrame(ft_norm_arr, columns=features.columns)"
   ],
   "metadata": {
    "collapsed": false,
    "pycharm": {
     "name": "#%%\n"
    }
   }
  },
  {
   "cell_type": "code",
   "execution_count": 24,
   "outputs": [],
   "source": [
    "train_x, test_x, train_y, test_y = train_test_split(ft_norm.values,\n",
    "                                                    target.values,\n",
    "                                                    test_size=0.8,\n",
    "                                                    stratify=target.values,\n",
    "                                                    random_state=11\n",
    "                                                    )"
   ],
   "metadata": {
    "collapsed": false,
    "pycharm": {
     "name": "#%%\n"
    }
   }
  },
  {
   "cell_type": "code",
   "execution_count": 25,
   "outputs": [],
   "source": [
    "tree = DecisionTreeClassifier(max_depth=5)\n",
    "knn = KNeighborsClassifier()"
   ],
   "metadata": {
    "collapsed": false,
    "pycharm": {
     "name": "#%%\n"
    }
   }
  },
  {
   "cell_type": "code",
   "execution_count": 26,
   "outputs": [],
   "source": [
    "single_tree = DecisionTreeClassifier().fit(train_x, train_y)\n",
    "y_pred_single = single_tree.predict(test_x)"
   ],
   "metadata": {
    "collapsed": false,
    "pycharm": {
     "name": "#%%\n"
    }
   }
  },
  {
   "cell_type": "code",
   "execution_count": 27,
   "outputs": [
    {
     "name": "stdout",
     "output_type": "stream",
     "text": [
      "Tree: 0.8872180451127819\n"
     ]
    }
   ],
   "source": [
    "print(\"Tree:\", accuracy_score(test_y, y_pred_single))"
   ],
   "metadata": {
    "collapsed": false,
    "pycharm": {
     "name": "#%%\n"
    }
   }
  },
  {
   "cell_type": "raw",
   "source": [
    "Matriz de confusión"
   ],
   "metadata": {
    "collapsed": false,
    "pycharm": {
     "name": "#%% raw\n"
    }
   }
  },
  {
   "cell_type": "code",
   "execution_count": 29,
   "outputs": [
    {
     "data": {
      "text/plain": "array([0.8951049 , 0.87804878])"
     },
     "execution_count": 29,
     "metadata": {},
     "output_type": "execute_result"
    }
   ],
   "source": [
    "from sklearn.metrics import f1_score\n",
    "f1_score(test_y, y_pred_single, average=None)"
   ],
   "metadata": {
    "collapsed": false,
    "pycharm": {
     "name": "#%%\n"
    }
   }
  },
  {
   "cell_type": "code",
   "execution_count": 31,
   "outputs": [
    {
     "name": "stdout",
     "output_type": "stream",
     "text": [
      "                precision    recall  f1-score   support\n",
      "\n",
      "No dobre suelo       0.83      0.97      0.90        66\n",
      "   Doble suelo       0.96      0.81      0.88        67\n",
      "\n",
      "      accuracy                           0.89       133\n",
      "     macro avg       0.90      0.89      0.89       133\n",
      "  weighted avg       0.90      0.89      0.89       133\n",
      "\n"
     ]
    }
   ],
   "source": [
    "from sklearn.metrics import classification_report\n",
    "print(classification_report(test_y, y_pred_single, target_names=[\"No dobre suelo\",\"Doble suelo\"]))"
   ],
   "metadata": {
    "collapsed": false,
    "pycharm": {
     "name": "#%%\n"
    }
   }
  },
  {
   "cell_type": "markdown",
   "source": [
    "Curva ROC"
   ],
   "metadata": {
    "collapsed": false,
    "pycharm": {
     "name": "#%% md\n"
    }
   }
  },
  {
   "cell_type": "code",
   "execution_count": 32,
   "outputs": [],
   "source": [
    "from sklearn.metrics import roc_curve\n",
    "def plot_roc_curve(fper, tper):\n",
    "    plt.plot(fper, tper, color='red', label='ROC')\n",
    "    plt.plot([0, 1], [0, 1], color='green', linestyle='--')\n",
    "    plt.xlabel('False Positive Rate')\n",
    "    plt.ylabel('True Positive Rate')\n",
    "    plt.title('Receiver Operating Characteristic Curve')\n",
    "    plt.legend()\n",
    "    plt.show()"
   ],
   "metadata": {
    "collapsed": false,
    "pycharm": {
     "name": "#%%\n"
    }
   }
  },
  {
   "cell_type": "code",
   "execution_count": 33,
   "outputs": [
    {
     "data": {
      "text/plain": "<Figure size 432x288 with 1 Axes>",
      "image/png": "[encoded data removed]"
     },
     "metadata": {
      "needs_background": "light"
     },
     "output_type": "display_data"
    }
   ],
   "source": [
    "fper, tper, thresholds = roc_curve(test_y, y_pred_single)\n",
    "plot_roc_curve(fper, tper)"
   ],
   "metadata": {
    "collapsed": false,
    "pycharm": {
     "name": "#%%\n"
    }
   }
  },
  {
   "cell_type": "raw",
   "source": [
    "Area bajo la curva (AUROC)"
   ],
   "metadata": {
    "collapsed": false,
    "pycharm": {
     "name": "#%% raw\n"
    }
   }
  },
  {
   "cell_type": "code",
   "execution_count": 34,
   "outputs": [
    {
     "data": {
      "text/plain": "0.8878335594753506"
     },
     "execution_count": 34,
     "metadata": {},
     "output_type": "execute_result"
    }
   ],
   "source": [
    "from sklearn import metrics\n",
    "metrics.auc(fper, tper)"
   ],
   "metadata": {
    "collapsed": false,
    "pycharm": {
     "name": "#%%\n"
    }
   }
  },
  {
   "cell_type": "markdown",
   "source": [
    "#### Iteración 2"
   ],
   "metadata": {
    "collapsed": false,
    "pycharm": {
     "name": "#%% md\n"
    }
   }
  },
  {
   "cell_type": "code",
   "execution_count": null,
   "outputs": [],
   "source": [],
   "metadata": {
    "collapsed": false,
    "pycharm": {
     "name": "#%%\n"
    }
   }
  }
 ],
 "metadata": {
  "kernelspec": {
   "display_name": "Python 3",
   "language": "python",
   "name": "python3"
  },
  "language_info": {
   "codemirror_mode": {
    "name": "ipython",
    "version": 2
   },
   "file_extension": ".py",
   "mimetype": "text/x-python",
   "name": "python",
   "nbconvert_exporter": "python",
   "pygments_lexer": "ipython2",
   "version": "2.7.6"
  }
 },
 "nbformat": 4,
 "nbformat_minor": 0
}